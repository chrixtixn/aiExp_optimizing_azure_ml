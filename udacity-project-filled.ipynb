{
  "cells": [
    {
      "cell_type": "code",
      "source": [
        "from azureml.core import Workspace, Experiment\n",
        "\n",
        "ws = Workspace.from_config(\"Users/odl_user_281290/config.json\")\n",
        "exp = Experiment(workspace=ws, name=\"udacity-project\")\n",
        "\n",
        "print('Workspace name: ' + ws.name, \n",
        "      'Azure region: ' + ws.location, \n",
        "      'Subscription id: ' + ws.subscription_id, \n",
        "      'Resource group: ' + ws.resource_group, sep = '\\n')\n",
        "\n",
        "run = exp.start_logging()"
      ],
      "outputs": [
        {
          "output_type": "display_data",
          "data": {
            "application/vnd.livy.statement-meta+json": {
              "spark_pool": "b6712890-fba9-472d-a032-aa60f0c8e41e",
              "statement_id": 6,
              "statement_ids": [
                6
              ],
              "state": "finished",
              "livy_statement_state": "available",
              "spark_jobs": {
                "numbers": {
                  "UNKNOWN": 0,
                  "SUCCEEDED": 0,
                  "FAILED": 0,
                  "RUNNING": 0
                },
                "jobs": [],
                "limit": 20,
                "rule": "ALL_DESC"
              },
              "session_id": "3",
              "normalized_state": "finished",
              "queued_time": "2025-05-24T11:00:00.0281212Z",
              "session_start_time": "2025-05-24T11:00:00.0292742Z",
              "execution_start_time": "2025-05-24T11:00:59.9578082Z",
              "execution_finish_time": "2025-05-24T11:01:39.030661Z",
              "parent_msg_id": "efde874e-62eb-4db2-a3bb-10b81d1d908f"
            },
            "text/plain": "StatementMeta(b6712890-fba9-472d-a032-aa60f0c8e41e, 3, 6, Finished, Available, Finished)"
          },
          "metadata": {}
        },
        {
          "output_type": "stream",
          "name": "stdout",
          "text": "Performing interactive authentication. Please follow the instructions on the terminal.\nTo sign in, use a web browser to open the page https://microsoft.com/devicelogin and enter the code CCRNQ35MW to authenticate.\nInteractive authentication successfully completed.\nWorkspace name: quick-starts-ws-281290\nAzure region: westeurope\nSubscription id: 61c5c3f0-6dc7-4ed9-a7f3-c704b20e3b30\nResource group: aml-quickstarts-281290\n"
        }
      ],
      "execution_count": 1,
      "metadata": {
        "gather": {
          "logged": 1748084499167
        }
      }
    },
    {
      "cell_type": "code",
      "source": [
        "from azureml.core.compute import ComputeTarget, AmlCompute\n",
        "from azureml.core.compute_target import ComputeTargetException\n",
        "\n",
        "cluster_name = \"project-1-cluster-2\"\n",
        "\n",
        "# DONE: Create compute cluster\n",
        "# Use vm_size = \"Standard_D2_V2\" in your provisioning configuration.\n",
        "# max_nodes should be no greater than 4.\n",
        "\n",
        "### YOUR CODE HERE ###\n",
        "try:\n",
        "    compute_target = ComputeTarget(workspace=ws, name=cluster_name)\n",
        "    print(\"Found existing compute target: \", cluster_name)\n",
        "except ComputeTargetException:\n",
        "    print(\"Creating a new compute target: \", cluster_name)\n",
        "    compute_config = AmlCompute.provisioning_configuration(vm_size=\"Standard_D2_V2\", min_nodes=0, max_nodes=6)\n",
        "    compute_target = ComputeTarget.create(ws, cluster_name, compute_config)\n",
        "compute_target.wait_for_completion(show_output=True)"
      ],
      "outputs": [
        {
          "output_type": "display_data",
          "data": {
            "application/vnd.livy.statement-meta+json": {
              "spark_pool": "b6712890-fba9-472d-a032-aa60f0c8e41e",
              "statement_id": 7,
              "statement_ids": [
                7
              ],
              "state": "finished",
              "livy_statement_state": "available",
              "spark_jobs": {
                "numbers": {
                  "UNKNOWN": 0,
                  "SUCCEEDED": 0,
                  "FAILED": 0,
                  "RUNNING": 0
                },
                "jobs": [],
                "limit": 20,
                "rule": "ALL_DESC"
              },
              "session_id": "3",
              "normalized_state": "finished",
              "queued_time": "2025-05-24T11:00:33.8445798Z",
              "session_start_time": null,
              "execution_start_time": "2025-05-24T11:01:39.0439488Z",
              "execution_finish_time": "2025-05-24T11:01:41.1267148Z",
              "parent_msg_id": "3627c7ad-4cbe-4569-ac09-4282535fb148"
            },
            "text/plain": "StatementMeta(b6712890-fba9-472d-a032-aa60f0c8e41e, 3, 7, Finished, Available, Finished)"
          },
          "metadata": {}
        },
        {
          "output_type": "stream",
          "name": "stdout",
          "text": "Found existing compute target:  project-1-cluster-2\nSucceeded\nAmlCompute wait for completion finished\n\nMinimum number of nodes requested have been provisioned\n"
        }
      ],
      "execution_count": 2,
      "metadata": {
        "gather": {
          "logged": 1748084501238
        },
        "jupyter": {
          "outputs_hidden": false,
          "source_hidden": false
        },
        "nteract": {
          "transient": {
            "deleting": false
          }
        }
      }
    },
    {
      "cell_type": "code",
      "source": [
        "!pip install azureml-sdk\n",
        "!pip install azureml.widgets"
      ],
      "outputs": [
        {
          "output_type": "display_data",
          "data": {
            "application/vnd.livy.statement-meta+json": {
              "spark_pool": "b6712890-fba9-472d-a032-aa60f0c8e41e",
              "statement_id": 11,
              "statement_ids": [
                11
              ],
              "state": "finished",
              "livy_statement_state": "available",
              "spark_jobs": {
                "numbers": {
                  "UNKNOWN": 0,
                  "SUCCEEDED": 0,
                  "FAILED": 0,
                  "RUNNING": 0
                },
                "jobs": [],
                "limit": 20,
                "rule": "ALL_DESC"
              },
              "session_id": "3",
              "normalized_state": "finished",
              "queued_time": "2025-05-24T11:03:05.502573Z",
              "session_start_time": null,
              "execution_start_time": "2025-05-24T11:03:05.5038967Z",
              "execution_finish_time": "2025-05-24T11:03:14.8262413Z",
              "parent_msg_id": "72a363c1-e867-4e21-96a5-b5e561bcca6b"
            },
            "text/plain": "StatementMeta(b6712890-fba9-472d-a032-aa60f0c8e41e, 3, 11, Finished, Available, Finished)"
          },
          "metadata": {}
        },
        {
          "output_type": "stream",
          "name": "stdout",
          "text": "Requirement already satisfied: azureml-sdk in /home/trusted-service-user/cluster-env/env/lib/python3.10/site-packages (1.60.0)\nRequirement already satisfied: azureml-train-automl-client~=1.60.0 in /home/trusted-service-user/cluster-env/env/lib/python3.10/site-packages (from azureml-sdk) (1.60.0)\nRequirement already satisfied: azureml-core~=1.60.0 in /home/trusted-service-user/cluster-env/env/lib/python3.10/site-packages (from azureml-sdk) (1.60.0)\nRequirement already satisfied: azureml-pipeline~=1.60.0 in /home/trusted-service-user/cluster-env/env/lib/python3.10/site-packages (from azureml-sdk) (1.60.0)\nRequirement already satisfied: azureml-train-core~=1.60.0 in /home/trusted-service-user/cluster-env/env/lib/python3.10/site-packages (from azureml-sdk) (1.60.0)\nRequirement already satisfied: azureml-dataset-runtime[fuse]~=1.60.0 in /home/trusted-service-user/cluster-env/env/lib/python3.10/site-packages (from azureml-sdk) (1.60.0)\nRequirement already satisfied: msal-extensions<=2.0.0,>=0.3.0 in /home/trusted-service-user/cluster-env/env/lib/python3.10/site-packages (from azureml-core~=1.60.0->azureml-sdk) (0.3.1)\nRequirement already satisfied: azure-mgmt-containerregistry<11,>=8.2.0 in /home/trusted-service-user/cluster-env/env/lib/python3.10/site-packages (from azureml-core~=1.60.0->azureml-sdk) (10.0.0)\nRequirement already satisfied: docker<8.0.0 in /home/trusted-service-user/cluster-env/env/lib/python3.10/site-packages (from azureml-core~=1.60.0->azureml-sdk) (6.0.1)\nRequirement already satisfied: azure-mgmt-network<=29.0.0 in /home/trusted-service-user/cluster-env/env/lib/python3.10/site-packages (from azureml-core~=1.60.0->azureml-sdk) (29.0.0)\nRequirement already satisfied: urllib3<3.0.0,>1.26.17 in /home/trusted-service-user/cluster-env/env/lib/python3.10/site-packages (from azureml-core~=1.60.0->azureml-sdk) (1.26.20)\nRequirement already satisfied: jsonpickle<5.0.0 in /home/trusted-service-user/cluster-env/env/lib/python3.10/site-packages (from azureml-core~=1.60.0->azureml-sdk) (2.2.0)\nRequirement already satisfied: msal<2.0.0,>=1.15.0 in /home/trusted-service-user/cluster-env/env/lib/python3.10/site-packages (from azureml-core~=1.60.0->azureml-sdk) (1.18.0)\nRequirement already satisfied: jmespath<2.0.0 in /home/trusted-service-user/cluster-env/env/lib/python3.10/site-packages (from azureml-core~=1.60.0->azureml-sdk) (1.0.1)\nRequirement already satisfied: python-dateutil<3.0.0,>=2.7.3 in /home/trusted-service-user/cluster-env/env/lib/python3.10/site-packages (from azureml-core~=1.60.0->azureml-sdk) (2.8.2)\nRequirement already satisfied: azure-core<2.0.0 in /home/trusted-service-user/cluster-env/env/lib/python3.10/site-packages (from azureml-core~=1.60.0->azureml-sdk) (1.34.0)\nRequirement already satisfied: azure-mgmt-storage<=23.0.0,>=16.0.0 in /home/trusted-service-user/cluster-env/env/lib/python3.10/site-packages (from azureml-core~=1.60.0->azureml-sdk) (20.1.0)\nRequirement already satisfied: packaging<=25.0,>=20.0 in /home/trusted-service-user/cluster-env/env/lib/python3.10/site-packages (from azureml-core~=1.60.0->azureml-sdk) (21.3)\nRequirement already satisfied: pathspec<1.0.0 in /home/trusted-service-user/cluster-env/env/lib/python3.10/site-packages (from azureml-core~=1.60.0->azureml-sdk) (0.10.1)\nRequirement already satisfied: msrestazure<=0.7,>=0.4.33 in /home/trusted-service-user/cluster-env/env/lib/python3.10/site-packages (from azureml-core~=1.60.0->azureml-sdk) (0.6.4)\nRequirement already satisfied: pyopenssl<26.0.0 in /home/trusted-service-user/cluster-env/env/lib/python3.10/site-packages (from azureml-core~=1.60.0->azureml-sdk) (22.1.0)\nRequirement already satisfied: knack<0.13.0 in /home/trusted-service-user/cluster-env/env/lib/python3.10/site-packages (from azureml-core~=1.60.0->azureml-sdk) (0.10.0)\nRequirement already satisfied: humanfriendly<11.0,>=4.7 in /home/trusted-service-user/cluster-env/env/lib/python3.10/site-packages (from azureml-core~=1.60.0->azureml-sdk) (10.0)\nRequirement already satisfied: pytz in /home/trusted-service-user/cluster-env/env/lib/python3.10/site-packages (from azureml-core~=1.60.0->azureml-sdk) (2022.6)\nRequirement already satisfied: azure-mgmt-authorization<5,>=0.40.0 in /home/trusted-service-user/cluster-env/env/lib/python3.10/site-packages (from azureml-core~=1.60.0->azureml-sdk) (2.0.0)\nRequirement already satisfied: azure-mgmt-keyvault<11.0.0,>=0.40.0 in /home/trusted-service-user/cluster-env/env/lib/python3.10/site-packages (from azureml-core~=1.60.0->azureml-sdk) (10.1.0)\nRequirement already satisfied: backports.tempfile in /home/trusted-service-user/cluster-env/env/lib/python3.10/site-packages (from azureml-core~=1.60.0->azureml-sdk) (1.0)\nRequirement already satisfied: pkginfo in /home/trusted-service-user/cluster-env/env/lib/python3.10/site-packages (from azureml-core~=1.60.0->azureml-sdk) (1.8.3)\nRequirement already satisfied: msrest<=0.7.1,>=0.5.1 in /home/trusted-service-user/cluster-env/env/lib/python3.10/site-packages (from azureml-core~=1.60.0->azureml-sdk) (0.7.1)\nRequirement already satisfied: SecretStorage<4.0.0 in /home/trusted-service-user/cluster-env/env/lib/python3.10/site-packages (from azureml-core~=1.60.0->azureml-sdk) (3.3.3)\nRequirement already satisfied: azure-mgmt-resource<=24.0.0,>=15.0.0 in /home/trusted-service-user/cluster-env/env/lib/python3.10/site-packages (from azureml-core~=1.60.0->azureml-sdk) (21.2.1)\nRequirement already satisfied: PyJWT<3.0.0 in /home/trusted-service-user/cluster-env/env/lib/python3.10/site-packages (from azureml-core~=1.60.0->azureml-sdk) (2.6.0)\nRequirement already satisfied: argcomplete<4 in /home/trusted-service-user/cluster-env/env/lib/python3.10/site-packages (from azureml-core~=1.60.0->azureml-sdk) (2.0.0)\nRequirement already satisfied: azure-common<2.0.0,>=1.1.12 in /home/trusted-service-user/cluster-env/env/lib/python3.10/site-packages (from azureml-core~=1.60.0->azureml-sdk) (1.1.28)\nRequirement already satisfied: ndg-httpsclient<=0.5.1 in /home/trusted-service-user/cluster-env/env/lib/python3.10/site-packages (from azureml-core~=1.60.0->azureml-sdk) (0.5.1)\nRequirement already satisfied: azure-graphrbac<1.0.0,>=0.40.0 in /home/trusted-service-user/cluster-env/env/lib/python3.10/site-packages (from azureml-core~=1.60.0->azureml-sdk) (0.61.1)\nRequirement already satisfied: requests[socks]<3.0.0,>=2.19.1 in /home/trusted-service-user/cluster-env/env/lib/python3.10/site-packages (from azureml-core~=1.60.0->azureml-sdk) (2.28.1)\nRequirement already satisfied: contextlib2<22.0.0 in /home/trusted-service-user/cluster-env/env/lib/python3.10/site-packages (from azureml-core~=1.60.0->azureml-sdk) (21.6.0)\nRequirement already satisfied: adal<=1.2.7,>=1.2.0 in /home/trusted-service-user/cluster-env/env/lib/python3.10/site-packages (from azureml-core~=1.60.0->azureml-sdk) (1.2.7)\nRequirement already satisfied: paramiko<4.0.0,>=2.0.8 in /home/trusted-service-user/cluster-env/env/lib/python3.10/site-packages (from azureml-core~=1.60.0->azureml-sdk) (2.12.0)\nRequirement already satisfied: numpy!=1.19.3,<1.24 in /home/trusted-service-user/cluster-env/env/lib/python3.10/site-packages (from azureml-dataset-runtime[fuse]~=1.60.0->azureml-sdk) (1.23.4)\nRequirement already satisfied: pyarrow>=0.17.0 in /home/trusted-service-user/cluster-env/env/lib/python3.10/site-packages (from azureml-dataset-runtime[fuse]~=1.60.0->azureml-sdk) (9.0.0)\nRequirement already satisfied: azureml-dataprep<5.2.0a,>=5.1.0a in /home/trusted-service-user/cluster-env/env/lib/python3.10/site-packages (from azureml-dataset-runtime[fuse]~=1.60.0->azureml-sdk) (5.1.6)\nRequirement already satisfied: fusepy<4.0.0,>=3.0.1 in /home/trusted-service-user/cluster-env/env/lib/python3.10/site-packages (from azureml-dataset-runtime[fuse]~=1.60.0->azureml-sdk) (3.0.1)\nRequirement already satisfied: azureml-pipeline-steps~=1.60.0 in /home/trusted-service-user/cluster-env/env/lib/python3.10/site-packages (from azureml-pipeline~=1.60.0->azureml-sdk) (1.60.0)\nRequirement already satisfied: azureml-pipeline-core~=1.60.0 in /home/trusted-service-user/cluster-env/env/lib/python3.10/site-packages (from azureml-pipeline~=1.60.0->azureml-sdk) (1.60.0)\nRequirement already satisfied: azureml-automl-core~=1.60.0 in /home/trusted-service-user/cluster-env/env/lib/python3.10/site-packages (from azureml-train-automl-client~=1.60.0->azureml-sdk) (1.60.0)\nRequirement already satisfied: azureml-telemetry~=1.60.0 in /home/trusted-service-user/cluster-env/env/lib/python3.10/site-packages (from azureml-train-automl-client~=1.60.0->azureml-sdk) (1.60.0)\nRequirement already satisfied: azureml-train-restclients-hyperdrive~=1.60.0 in /home/trusted-service-user/cluster-env/env/lib/python3.10/site-packages (from azureml-train-core~=1.60.0->azureml-sdk) (1.60.0)\nRequirement already satisfied: cryptography>=1.1.0 in /home/trusted-service-user/cluster-env/env/lib/python3.10/site-packages (from adal<=1.2.7,>=1.2.0->azureml-core~=1.60.0->azureml-sdk) (38.0.3)\nRequirement already satisfied: six>=1.11.0 in /home/trusted-service-user/cluster-env/env/lib/python3.10/site-packages (from azure-core<2.0.0->azureml-core~=1.60.0->azureml-sdk) (1.16.0)\nRequirement already satisfied: typing-extensions>=4.6.0 in /home/trusted-service-user/cluster-env/env/lib/python3.10/site-packages (from azure-core<2.0.0->azureml-core~=1.60.0->azureml-sdk) (4.13.2)\nRequirement already satisfied: azure-mgmt-core<2.0.0,>=1.2.0 in /home/trusted-service-user/cluster-env/env/lib/python3.10/site-packages (from azure-mgmt-authorization<5,>=0.40.0->azureml-core~=1.60.0->azureml-sdk) (1.5.0)\nRequirement already satisfied: isodate>=0.6.1 in /home/trusted-service-user/cluster-env/env/lib/python3.10/site-packages (from azure-mgmt-network<=29.0.0->azureml-core~=1.60.0->azureml-sdk) (0.7.2)\nRequirement already satisfied: importlib-metadata<=8.2.0 in /home/trusted-service-user/cluster-env/env/lib/python3.10/site-packages (from azureml-automl-core~=1.60.0->azureml-train-automl-client~=1.60.0->azureml-sdk) (5.0.0)\nRequirement already satisfied: importlib-resources<=6.4.0 in /home/trusted-service-user/cluster-env/env/lib/python3.10/site-packages (from azureml-automl-core~=1.60.0->azureml-train-automl-client~=1.60.0->azureml-sdk) (6.4.0)\nRequirement already satisfied: cloudpickle<3.0.0,>=1.1.0 in /home/trusted-service-user/cluster-env/env/lib/python3.10/site-packages (from azureml-dataprep<5.2.0a,>=5.1.0a->azureml-dataset-runtime[fuse]~=1.60.0->azureml-sdk) (2.2.0)\nRequirement already satisfied: azureml-dataprep-rslex~=2.22.2dev0 in /home/trusted-service-user/cluster-env/env/lib/python3.10/site-packages (from azureml-dataprep<5.2.0a,>=5.1.0a->azureml-dataset-runtime[fuse]~=1.60.0->azureml-sdk) (2.22.5)\nRequirement already satisfied: azure-identity>=1.7.0 in /home/trusted-service-user/cluster-env/env/lib/python3.10/site-packages (from azureml-dataprep<5.2.0a,>=5.1.0a->azureml-dataset-runtime[fuse]~=1.60.0->azureml-sdk) (1.7.0)\nRequirement already satisfied: azureml-dataprep-native<42.0.0,>=41.0.0 in /home/trusted-service-user/cluster-env/env/lib/python3.10/site-packages (from azureml-dataprep<5.2.0a,>=5.1.0a->azureml-dataset-runtime[fuse]~=1.60.0->azureml-sdk) (41.0.0)\nRequirement already satisfied: pyyaml<7.0.0,>=5.1.0 in /home/trusted-service-user/cluster-env/env/lib/python3.10/site-packages (from azureml-dataprep<5.2.0a,>=5.1.0a->azureml-dataset-runtime[fuse]~=1.60.0->azureml-sdk) (6.0)\nRequirement already satisfied: jsonschema in /home/trusted-service-user/cluster-env/env/lib/python3.10/site-packages (from azureml-dataprep<5.2.0a,>=5.1.0a->azureml-dataset-runtime[fuse]~=1.60.0->azureml-sdk) (4.17.0)\nRequirement already satisfied: applicationinsights in /home/trusted-service-user/cluster-env/env/lib/python3.10/site-packages (from azureml-telemetry~=1.60.0->azureml-train-automl-client~=1.60.0->azureml-sdk) (0.11.10)\nRequirement already satisfied: websocket-client>=0.32.0 in /home/trusted-service-user/cluster-env/env/lib/python3.10/site-packages (from docker<8.0.0->azureml-core~=1.60.0->azureml-sdk) (1.4.2)\nRequirement already satisfied: pygments in /home/trusted-service-user/cluster-env/env/lib/python3.10/site-packages (from knack<0.13.0->azureml-core~=1.60.0->azureml-sdk) (2.13.0)\nRequirement already satisfied: tabulate in /home/trusted-service-user/cluster-env/env/lib/python3.10/site-packages (from knack<0.13.0->azureml-core~=1.60.0->azureml-sdk) (0.9.0)\nRequirement already satisfied: portalocker<3,>=1.0 in /home/trusted-service-user/cluster-env/env/lib/python3.10/site-packages (from msal-extensions<=2.0.0,>=0.3.0->azureml-core~=1.60.0->azureml-sdk) (2.6.0)\nRequirement already satisfied: requests-oauthlib>=0.5.0 in /home/trusted-service-user/cluster-env/env/lib/python3.10/site-packages (from msrest<=0.7.1,>=0.5.1->azureml-core~=1.60.0->azureml-sdk) (1.3.1)\nRequirement already satisfied: certifi>=2017.4.17 in /home/trusted-service-user/cluster-env/env/lib/python3.10/site-packages (from msrest<=0.7.1,>=0.5.1->azureml-core~=1.60.0->azureml-sdk) (2022.9.24)\nRequirement already satisfied: pyasn1>=0.1.1 in /home/trusted-service-user/cluster-env/env/lib/python3.10/site-packages (from ndg-httpsclient<=0.5.1->azureml-core~=1.60.0->azureml-sdk) (0.4.8)\nRequirement already satisfied: pyparsing!=3.0.5,>=2.0.2 in /home/trusted-service-user/cluster-env/env/lib/python3.10/site-packages (from packaging<=25.0,>=20.0->azureml-core~=1.60.0->azureml-sdk) (3.0.9)\nRequirement already satisfied: pynacl>=1.0.1 in /home/trusted-service-user/cluster-env/env/lib/python3.10/site-packages (from paramiko<4.0.0,>=2.0.8->azureml-core~=1.60.0->azureml-sdk) (1.5.0)\nRequirement already satisfied: bcrypt>=3.1.3 in /home/trusted-service-user/cluster-env/env/lib/python3.10/site-packages (from paramiko<4.0.0,>=2.0.8->azureml-core~=1.60.0->azureml-sdk) (4.0.1)\nRequirement already satisfied: charset-normalizer<3,>=2 in /home/trusted-service-user/cluster-env/env/lib/python3.10/site-packages (from requests[socks]<3.0.0,>=2.19.1->azureml-core~=1.60.0->azureml-sdk) (2.1.1)\nRequirement already satisfied: idna<4,>=2.5 in /home/trusted-service-user/cluster-env/env/lib/python3.10/site-packages (from requests[socks]<3.0.0,>=2.19.1->azureml-core~=1.60.0->azureml-sdk) (3.4)\nRequirement already satisfied: PySocks!=1.5.7,>=1.5.6 in /home/trusted-service-user/cluster-env/env/lib/python3.10/site-packages (from requests[socks]<3.0.0,>=2.19.1->azureml-core~=1.60.0->azureml-sdk) (1.7.1)\nRequirement already satisfied: jeepney>=0.6 in /home/trusted-service-user/cluster-env/env/lib/python3.10/site-packages (from SecretStorage<4.0.0->azureml-core~=1.60.0->azureml-sdk) (0.8.0)\nRequirement already satisfied: backports.weakref in /home/trusted-service-user/cluster-env/env/lib/python3.10/site-packages (from backports.tempfile->azureml-core~=1.60.0->azureml-sdk) (1.0.post1)\nRequirement already satisfied: cffi>=1.12 in /home/trusted-service-user/cluster-env/env/lib/python3.10/site-packages (from cryptography>=1.1.0->adal<=1.2.7,>=1.2.0->azureml-core~=1.60.0->azureml-sdk) (1.15.1)\nRequirement already satisfied: zipp>=0.5 in /home/trusted-service-user/cluster-env/env/lib/python3.10/site-packages (from importlib-metadata<=8.2.0->azureml-automl-core~=1.60.0->azureml-train-automl-client~=1.60.0->azureml-sdk) (3.10.0)\nRequirement already satisfied: oauthlib>=3.0.0 in /home/trusted-service-user/cluster-env/env/lib/python3.10/site-packages (from requests-oauthlib>=0.5.0->msrest<=0.7.1,>=0.5.1->azureml-core~=1.60.0->azureml-sdk) (3.2.2)\nRequirement already satisfied: attrs>=17.4.0 in /home/trusted-service-user/cluster-env/env/lib/python3.10/site-packages (from jsonschema->azureml-dataprep<5.2.0a,>=5.1.0a->azureml-dataset-runtime[fuse]~=1.60.0->azureml-sdk) (22.1.0)\nRequirement already satisfied: pyrsistent!=0.17.0,!=0.17.1,!=0.17.2,>=0.14.0 in /home/trusted-service-user/cluster-env/env/lib/python3.10/site-packages (from jsonschema->azureml-dataprep<5.2.0a,>=5.1.0a->azureml-dataset-runtime[fuse]~=1.60.0->azureml-sdk) (0.19.2)\nRequirement already satisfied: pycparser in /home/trusted-service-user/cluster-env/env/lib/python3.10/site-packages (from cffi>=1.12->cryptography>=1.1.0->adal<=1.2.7,>=1.2.0->azureml-core~=1.60.0->azureml-sdk) (2.21)\nCollecting azureml.widgets\n  Downloading azureml_widgets-1.60.0-py3-none-any.whl (14.1 MB)\n\u001b[2K     \u001b[90m━━━━━━━━━━━━━━━━━━━━━━━━━━━━━━━━━━━━━━━━\u001b[0m \u001b[32m14.1/14.1 MB\u001b[0m \u001b[31m98.1 MB/s\u001b[0m eta \u001b[36m0:00:00\u001b[0m00:01\u001b[0m00:01\u001b[0m\n\u001b[?25hRequirement already satisfied: azureml-core~=1.60.0 in /home/trusted-service-user/cluster-env/env/lib/python3.10/site-packages (from azureml.widgets) (1.60.0)\nRequirement already satisfied: jinja2<4.0 in /home/trusted-service-user/cluster-env/env/lib/python3.10/site-packages (from azureml.widgets) (3.1.2)\nRequirement already satisfied: ipywidgets<8.0.0,>=7.0.0 in /home/trusted-service-user/cluster-env/env/lib/python3.10/site-packages (from azureml.widgets) (7.7.0)\nRequirement already satisfied: azureml-telemetry~=1.60.0 in /home/trusted-service-user/cluster-env/env/lib/python3.10/site-packages (from azureml.widgets) (1.60.0)\nRequirement already satisfied: azure-storage-blob>=12.6.0 in /home/trusted-service-user/cluster-env/env/lib/python3.10/site-packages (from azureml.widgets) (12.14.1)\nRequirement already satisfied: msrest>=0.7.1 in /home/trusted-service-user/cluster-env/env/lib/python3.10/site-packages (from azure-storage-blob>=12.6.0->azureml.widgets) (0.7.1)\nRequirement already satisfied: cryptography>=2.1.4 in /home/trusted-service-user/cluster-env/env/lib/python3.10/site-packages (from azure-storage-blob>=12.6.0->azureml.widgets) (38.0.3)\nRequirement already satisfied: azure-core<2.0.0,>=1.24.2 in /home/trusted-service-user/cluster-env/env/lib/python3.10/site-packages (from azure-storage-blob>=12.6.0->azureml.widgets) (1.34.0)\nRequirement already satisfied: azure-mgmt-resource<=24.0.0,>=15.0.0 in /home/trusted-service-user/cluster-env/env/lib/python3.10/site-packages (from azureml-core~=1.60.0->azureml.widgets) (21.2.1)\nRequirement already satisfied: azure-mgmt-authorization<5,>=0.40.0 in /home/trusted-service-user/cluster-env/env/lib/python3.10/site-packages (from azureml-core~=1.60.0->azureml.widgets) (2.0.0)\nRequirement already satisfied: azure-mgmt-network<=29.0.0 in /home/trusted-service-user/cluster-env/env/lib/python3.10/site-packages (from azureml-core~=1.60.0->azureml.widgets) (29.0.0)\nRequirement already satisfied: pkginfo in /home/trusted-service-user/cluster-env/env/lib/python3.10/site-packages (from azureml-core~=1.60.0->azureml.widgets) (1.8.3)\nRequirement already satisfied: pathspec<1.0.0 in /home/trusted-service-user/cluster-env/env/lib/python3.10/site-packages (from azureml-core~=1.60.0->azureml.widgets) (0.10.1)\nRequirement already satisfied: knack<0.13.0 in /home/trusted-service-user/cluster-env/env/lib/python3.10/site-packages (from azureml-core~=1.60.0->azureml.widgets) (0.10.0)\nRequirement already satisfied: humanfriendly<11.0,>=4.7 in /home/trusted-service-user/cluster-env/env/lib/python3.10/site-packages (from azureml-core~=1.60.0->azureml.widgets) (10.0)\nRequirement already satisfied: azure-common<2.0.0,>=1.1.12 in /home/trusted-service-user/cluster-env/env/lib/python3.10/site-packages (from azureml-core~=1.60.0->azureml.widgets) (1.1.28)\nRequirement already satisfied: urllib3<3.0.0,>1.26.17 in /home/trusted-service-user/cluster-env/env/lib/python3.10/site-packages (from azureml-core~=1.60.0->azureml.widgets) (1.26.20)\nRequirement already satisfied: pyopenssl<26.0.0 in /home/trusted-service-user/cluster-env/env/lib/python3.10/site-packages (from azureml-core~=1.60.0->azureml.widgets) (22.1.0)\nRequirement already satisfied: SecretStorage<4.0.0 in /home/trusted-service-user/cluster-env/env/lib/python3.10/site-packages (from azureml-core~=1.60.0->azureml.widgets) (3.3.3)\nRequirement already satisfied: docker<8.0.0 in /home/trusted-service-user/cluster-env/env/lib/python3.10/site-packages (from azureml-core~=1.60.0->azureml.widgets) (6.0.1)\nRequirement already satisfied: jsonpickle<5.0.0 in /home/trusted-service-user/cluster-env/env/lib/python3.10/site-packages (from azureml-core~=1.60.0->azureml.widgets) (2.2.0)\nRequirement already satisfied: adal<=1.2.7,>=1.2.0 in /home/trusted-service-user/cluster-env/env/lib/python3.10/site-packages (from azureml-core~=1.60.0->azureml.widgets) (1.2.7)\nRequirement already satisfied: contextlib2<22.0.0 in /home/trusted-service-user/cluster-env/env/lib/python3.10/site-packages (from azureml-core~=1.60.0->azureml.widgets) (21.6.0)\nRequirement already satisfied: pytz in /home/trusted-service-user/cluster-env/env/lib/python3.10/site-packages (from azureml-core~=1.60.0->azureml.widgets) (2022.6)\nRequirement already satisfied: azure-mgmt-containerregistry<11,>=8.2.0 in /home/trusted-service-user/cluster-env/env/lib/python3.10/site-packages (from azureml-core~=1.60.0->azureml.widgets) (10.0.0)\nRequirement already satisfied: azure-graphrbac<1.0.0,>=0.40.0 in /home/trusted-service-user/cluster-env/env/lib/python3.10/site-packages (from azureml-core~=1.60.0->azureml.widgets) (0.61.1)\nRequirement already satisfied: msrestazure<=0.7,>=0.4.33 in /home/trusted-service-user/cluster-env/env/lib/python3.10/site-packages (from azureml-core~=1.60.0->azureml.widgets) (0.6.4)\nRequirement already satisfied: paramiko<4.0.0,>=2.0.8 in /home/trusted-service-user/cluster-env/env/lib/python3.10/site-packages (from azureml-core~=1.60.0->azureml.widgets) (2.12.0)\nRequirement already satisfied: msal-extensions<=2.0.0,>=0.3.0 in /home/trusted-service-user/cluster-env/env/lib/python3.10/site-packages (from azureml-core~=1.60.0->azureml.widgets) (0.3.1)\nRequirement already satisfied: msal<2.0.0,>=1.15.0 in /home/trusted-service-user/cluster-env/env/lib/python3.10/site-packages (from azureml-core~=1.60.0->azureml.widgets) (1.18.0)\nRequirement already satisfied: python-dateutil<3.0.0,>=2.7.3 in /home/trusted-service-user/cluster-env/env/lib/python3.10/site-packages (from azureml-core~=1.60.0->azureml.widgets) (2.8.2)\nRequirement already satisfied: ndg-httpsclient<=0.5.1 in /home/trusted-service-user/cluster-env/env/lib/python3.10/site-packages (from azureml-core~=1.60.0->azureml.widgets) (0.5.1)\nRequirement already satisfied: jmespath<2.0.0 in /home/trusted-service-user/cluster-env/env/lib/python3.10/site-packages (from azureml-core~=1.60.0->azureml.widgets) (1.0.1)\nRequirement already satisfied: azure-mgmt-keyvault<11.0.0,>=0.40.0 in /home/trusted-service-user/cluster-env/env/lib/python3.10/site-packages (from azureml-core~=1.60.0->azureml.widgets) (10.1.0)\nRequirement already satisfied: PyJWT<3.0.0 in /home/trusted-service-user/cluster-env/env/lib/python3.10/site-packages (from azureml-core~=1.60.0->azureml.widgets) (2.6.0)\nRequirement already satisfied: requests[socks]<3.0.0,>=2.19.1 in /home/trusted-service-user/cluster-env/env/lib/python3.10/site-packages (from azureml-core~=1.60.0->azureml.widgets) (2.28.1)\nRequirement already satisfied: packaging<=25.0,>=20.0 in /home/trusted-service-user/cluster-env/env/lib/python3.10/site-packages (from azureml-core~=1.60.0->azureml.widgets) (21.3)\nRequirement already satisfied: argcomplete<4 in /home/trusted-service-user/cluster-env/env/lib/python3.10/site-packages (from azureml-core~=1.60.0->azureml.widgets) (2.0.0)\nRequirement already satisfied: azure-mgmt-storage<=23.0.0,>=16.0.0 in /home/trusted-service-user/cluster-env/env/lib/python3.10/site-packages (from azureml-core~=1.60.0->azureml.widgets) (20.1.0)\nRequirement already satisfied: backports.tempfile in /home/trusted-service-user/cluster-env/env/lib/python3.10/site-packages (from azureml-core~=1.60.0->azureml.widgets) (1.0)\nRequirement already satisfied: applicationinsights in /home/trusted-service-user/cluster-env/env/lib/python3.10/site-packages (from azureml-telemetry~=1.60.0->azureml.widgets) (0.11.10)\nRequirement already satisfied: ipykernel>=4.5.1 in /home/trusted-service-user/cluster-env/env/lib/python3.10/site-packages (from ipywidgets<8.0.0,>=7.0.0->azureml.widgets) (6.17.0)\nRequirement already satisfied: ipython>=4.0.0 in /home/trusted-service-user/cluster-env/env/lib/python3.10/site-packages (from ipywidgets<8.0.0,>=7.0.0->azureml.widgets) (8.6.0)\nRequirement already satisfied: jupyterlab-widgets>=1.0.0 in /home/trusted-service-user/cluster-env/env/lib/python3.10/site-packages (from ipywidgets<8.0.0,>=7.0.0->azureml.widgets) (3.0.3)\nRequirement already satisfied: widgetsnbextension~=3.6.0 in /home/trusted-service-user/cluster-env/env/lib/python3.10/site-packages (from ipywidgets<8.0.0,>=7.0.0->azureml.widgets) (3.6.1)\nRequirement already satisfied: traitlets>=4.3.1 in /home/trusted-service-user/cluster-env/env/lib/python3.10/site-packages (from ipywidgets<8.0.0,>=7.0.0->azureml.widgets) (5.5.0)\nRequirement already satisfied: nbformat>=4.2.0 in /home/trusted-service-user/cluster-env/env/lib/python3.10/site-packages (from ipywidgets<8.0.0,>=7.0.0->azureml.widgets) (5.7.0)\nRequirement already satisfied: ipython-genutils~=0.2.0 in /home/trusted-service-user/cluster-env/env/lib/python3.10/site-packages (from ipywidgets<8.0.0,>=7.0.0->azureml.widgets) (0.2.0)\nRequirement already satisfied: MarkupSafe>=2.0 in /home/trusted-service-user/cluster-env/env/lib/python3.10/site-packages (from jinja2<4.0->azureml.widgets) (2.1.1)\nRequirement already satisfied: typing-extensions>=4.6.0 in /home/trusted-service-user/cluster-env/env/lib/python3.10/site-packages (from azure-core<2.0.0,>=1.24.2->azure-storage-blob>=12.6.0->azureml.widgets) (4.13.2)\nRequirement already satisfied: six>=1.11.0 in /home/trusted-service-user/cluster-env/env/lib/python3.10/site-packages (from azure-core<2.0.0,>=1.24.2->azure-storage-blob>=12.6.0->azureml.widgets) (1.16.0)\nRequirement already satisfied: azure-mgmt-core<2.0.0,>=1.2.0 in /home/trusted-service-user/cluster-env/env/lib/python3.10/site-packages (from azure-mgmt-authorization<5,>=0.40.0->azureml-core~=1.60.0->azureml.widgets) (1.5.0)\nRequirement already satisfied: isodate>=0.6.1 in /home/trusted-service-user/cluster-env/env/lib/python3.10/site-packages (from azure-mgmt-network<=29.0.0->azureml-core~=1.60.0->azureml.widgets) (0.7.2)\nRequirement already satisfied: cffi>=1.12 in /home/trusted-service-user/cluster-env/env/lib/python3.10/site-packages (from cryptography>=2.1.4->azure-storage-blob>=12.6.0->azureml.widgets) (1.15.1)\nRequirement already satisfied: websocket-client>=0.32.0 in /home/trusted-service-user/cluster-env/env/lib/python3.10/site-packages (from docker<8.0.0->azureml-core~=1.60.0->azureml.widgets) (1.4.2)\nRequirement already satisfied: nest-asyncio in /home/trusted-service-user/cluster-env/env/lib/python3.10/site-packages (from ipykernel>=4.5.1->ipywidgets<8.0.0,>=7.0.0->azureml.widgets) (1.5.6)\nRequirement already satisfied: matplotlib-inline>=0.1 in /home/trusted-service-user/cluster-env/env/lib/python3.10/site-packages (from ipykernel>=4.5.1->ipywidgets<8.0.0,>=7.0.0->azureml.widgets) (0.1.6)\nRequirement already satisfied: pyzmq>=17 in /home/trusted-service-user/cluster-env/env/lib/python3.10/site-packages (from ipykernel>=4.5.1->ipywidgets<8.0.0,>=7.0.0->azureml.widgets) (24.0.1)\nRequirement already satisfied: psutil in /home/trusted-service-user/cluster-env/env/lib/python3.10/site-packages (from ipykernel>=4.5.1->ipywidgets<8.0.0,>=7.0.0->azureml.widgets) (5.9.4)\nRequirement already satisfied: debugpy>=1.0 in /home/trusted-service-user/cluster-env/env/lib/python3.10/site-packages (from ipykernel>=4.5.1->ipywidgets<8.0.0,>=7.0.0->azureml.widgets) (1.6.3)\nRequirement already satisfied: tornado>=6.1 in /home/trusted-service-user/cluster-env/env/lib/python3.10/site-packages (from ipykernel>=4.5.1->ipywidgets<8.0.0,>=7.0.0->azureml.widgets) (6.2)\nRequirement already satisfied: jupyter-client>=6.1.12 in /home/trusted-service-user/cluster-env/env/lib/python3.10/site-packages (from ipykernel>=4.5.1->ipywidgets<8.0.0,>=7.0.0->azureml.widgets) (7.4.4)\nRequirement already satisfied: pickleshare in /home/trusted-service-user/cluster-env/env/lib/python3.10/site-packages (from ipython>=4.0.0->ipywidgets<8.0.0,>=7.0.0->azureml.widgets) (0.7.5)\nRequirement already satisfied: jedi>=0.16 in /home/trusted-service-user/cluster-env/env/lib/python3.10/site-packages (from ipython>=4.0.0->ipywidgets<8.0.0,>=7.0.0->azureml.widgets) (0.18.1)\nRequirement already satisfied: decorator in /home/trusted-service-user/cluster-env/env/lib/python3.10/site-packages (from ipython>=4.0.0->ipywidgets<8.0.0,>=7.0.0->azureml.widgets) (5.1.1)\nRequirement already satisfied: pexpect>4.3 in /home/trusted-service-user/cluster-env/env/lib/python3.10/site-packages (from ipython>=4.0.0->ipywidgets<8.0.0,>=7.0.0->azureml.widgets) (4.8.0)\nRequirement already satisfied: prompt-toolkit<3.1.0,>3.0.1 in /home/trusted-service-user/cluster-env/env/lib/python3.10/site-packages (from ipython>=4.0.0->ipywidgets<8.0.0,>=7.0.0->azureml.widgets) (3.0.32)\nRequirement already satisfied: pygments>=2.4.0 in /home/trusted-service-user/cluster-env/env/lib/python3.10/site-packages (from ipython>=4.0.0->ipywidgets<8.0.0,>=7.0.0->azureml.widgets) (2.13.0)\nRequirement already satisfied: stack-data in /home/trusted-service-user/cluster-env/env/lib/python3.10/site-packages (from ipython>=4.0.0->ipywidgets<8.0.0,>=7.0.0->azureml.widgets) (0.6.0)\nRequirement already satisfied: backcall in /home/trusted-service-user/cluster-env/env/lib/python3.10/site-packages (from ipython>=4.0.0->ipywidgets<8.0.0,>=7.0.0->azureml.widgets) (0.2.0)\nRequirement already satisfied: pyyaml in /home/trusted-service-user/cluster-env/env/lib/python3.10/site-packages (from knack<0.13.0->azureml-core~=1.60.0->azureml.widgets) (6.0)\nRequirement already satisfied: tabulate in /home/trusted-service-user/cluster-env/env/lib/python3.10/site-packages (from knack<0.13.0->azureml-core~=1.60.0->azureml.widgets) (0.9.0)\nRequirement already satisfied: portalocker<3,>=1.0 in /home/trusted-service-user/cluster-env/env/lib/python3.10/site-packages (from msal-extensions<=2.0.0,>=0.3.0->azureml-core~=1.60.0->azureml.widgets) (2.6.0)\nRequirement already satisfied: requests-oauthlib>=0.5.0 in /home/trusted-service-user/cluster-env/env/lib/python3.10/site-packages (from msrest>=0.7.1->azure-storage-blob>=12.6.0->azureml.widgets) (1.3.1)\nRequirement already satisfied: certifi>=2017.4.17 in /home/trusted-service-user/cluster-env/env/lib/python3.10/site-packages (from msrest>=0.7.1->azure-storage-blob>=12.6.0->azureml.widgets) (2022.9.24)\nRequirement already satisfied: jupyter-core in /home/trusted-service-user/cluster-env/env/lib/python3.10/site-packages (from nbformat>=4.2.0->ipywidgets<8.0.0,>=7.0.0->azureml.widgets) (4.11.2)\nRequirement already satisfied: jsonschema>=2.6 in /home/trusted-service-user/cluster-env/env/lib/python3.10/site-packages (from nbformat>=4.2.0->ipywidgets<8.0.0,>=7.0.0->azureml.widgets) (4.17.0)\nRequirement already satisfied: fastjsonschema in /home/trusted-service-user/cluster-env/env/lib/python3.10/site-packages (from nbformat>=4.2.0->ipywidgets<8.0.0,>=7.0.0->azureml.widgets) (2.16.2)\nRequirement already satisfied: pyasn1>=0.1.1 in /home/trusted-service-user/cluster-env/env/lib/python3.10/site-packages (from ndg-httpsclient<=0.5.1->azureml-core~=1.60.0->azureml.widgets) (0.4.8)\nRequirement already satisfied: pyparsing!=3.0.5,>=2.0.2 in /home/trusted-service-user/cluster-env/env/lib/python3.10/site-packages (from packaging<=25.0,>=20.0->azureml-core~=1.60.0->azureml.widgets) (3.0.9)\nRequirement already satisfied: bcrypt>=3.1.3 in /home/trusted-service-user/cluster-env/env/lib/python3.10/site-packages (from paramiko<4.0.0,>=2.0.8->azureml-core~=1.60.0->azureml.widgets) (4.0.1)\nRequirement already satisfied: pynacl>=1.0.1 in /home/trusted-service-user/cluster-env/env/lib/python3.10/site-packages (from paramiko<4.0.0,>=2.0.8->azureml-core~=1.60.0->azureml.widgets) (1.5.0)\nRequirement already satisfied: charset-normalizer<3,>=2 in /home/trusted-service-user/cluster-env/env/lib/python3.10/site-packages (from requests[socks]<3.0.0,>=2.19.1->azureml-core~=1.60.0->azureml.widgets) (2.1.1)\nRequirement already satisfied: idna<4,>=2.5 in /home/trusted-service-user/cluster-env/env/lib/python3.10/site-packages (from requests[socks]<3.0.0,>=2.19.1->azureml-core~=1.60.0->azureml.widgets) (3.4)\nRequirement already satisfied: PySocks!=1.5.7,>=1.5.6 in /home/trusted-service-user/cluster-env/env/lib/python3.10/site-packages (from requests[socks]<3.0.0,>=2.19.1->azureml-core~=1.60.0->azureml.widgets) (1.7.1)\nRequirement already satisfied: jeepney>=0.6 in /home/trusted-service-user/cluster-env/env/lib/python3.10/site-packages (from SecretStorage<4.0.0->azureml-core~=1.60.0->azureml.widgets) (0.8.0)\nRequirement already satisfied: notebook>=4.4.1 in /home/trusted-service-user/cluster-env/env/lib/python3.10/site-packages (from widgetsnbextension~=3.6.0->ipywidgets<8.0.0,>=7.0.0->azureml.widgets) (6.5.2)\nRequirement already satisfied: backports.weakref in /home/trusted-service-user/cluster-env/env/lib/python3.10/site-packages (from backports.tempfile->azureml-core~=1.60.0->azureml.widgets) (1.0.post1)\nRequirement already satisfied: pycparser in /home/trusted-service-user/cluster-env/env/lib/python3.10/site-packages (from cffi>=1.12->cryptography>=2.1.4->azure-storage-blob>=12.6.0->azureml.widgets) (2.21)\nRequirement already satisfied: parso<0.9.0,>=0.8.0 in /home/trusted-service-user/cluster-env/env/lib/python3.10/site-packages (from jedi>=0.16->ipython>=4.0.0->ipywidgets<8.0.0,>=7.0.0->azureml.widgets) (0.8.3)\nRequirement already satisfied: attrs>=17.4.0 in /home/trusted-service-user/cluster-env/env/lib/python3.10/site-packages (from jsonschema>=2.6->nbformat>=4.2.0->ipywidgets<8.0.0,>=7.0.0->azureml.widgets) (22.1.0)\nRequirement already satisfied: pyrsistent!=0.17.0,!=0.17.1,!=0.17.2,>=0.14.0 in /home/trusted-service-user/cluster-env/env/lib/python3.10/site-packages (from jsonschema>=2.6->nbformat>=4.2.0->ipywidgets<8.0.0,>=7.0.0->azureml.widgets) (0.19.2)\nRequirement already satisfied: entrypoints in /home/trusted-service-user/cluster-env/env/lib/python3.10/site-packages (from jupyter-client>=6.1.12->ipykernel>=4.5.1->ipywidgets<8.0.0,>=7.0.0->azureml.widgets) (0.4)\nRequirement already satisfied: argon2-cffi in /home/trusted-service-user/cluster-env/env/lib/python3.10/site-packages (from notebook>=4.4.1->widgetsnbextension~=3.6.0->ipywidgets<8.0.0,>=7.0.0->azureml.widgets) (21.3.0)\nRequirement already satisfied: terminado>=0.8.3 in /home/trusted-service-user/cluster-env/env/lib/python3.10/site-packages (from notebook>=4.4.1->widgetsnbextension~=3.6.0->ipywidgets<8.0.0,>=7.0.0->azureml.widgets) (0.17.0)\nRequirement already satisfied: Send2Trash>=1.8.0 in /home/trusted-service-user/cluster-env/env/lib/python3.10/site-packages (from notebook>=4.4.1->widgetsnbextension~=3.6.0->ipywidgets<8.0.0,>=7.0.0->azureml.widgets) (1.8.0)\nRequirement already satisfied: nbconvert>=5 in /home/trusted-service-user/cluster-env/env/lib/python3.10/site-packages (from notebook>=4.4.1->widgetsnbextension~=3.6.0->ipywidgets<8.0.0,>=7.0.0->azureml.widgets) (7.2.3)\nRequirement already satisfied: nbclassic>=0.4.7 in /home/trusted-service-user/cluster-env/env/lib/python3.10/site-packages (from notebook>=4.4.1->widgetsnbextension~=3.6.0->ipywidgets<8.0.0,>=7.0.0->azureml.widgets) (0.4.8)\nRequirement already satisfied: prometheus-client in /home/trusted-service-user/cluster-env/env/lib/python3.10/site-packages (from notebook>=4.4.1->widgetsnbextension~=3.6.0->ipywidgets<8.0.0,>=7.0.0->azureml.widgets) (0.15.0)\nRequirement already satisfied: ptyprocess>=0.5 in /home/trusted-service-user/cluster-env/env/lib/python3.10/site-packages (from pexpect>4.3->ipython>=4.0.0->ipywidgets<8.0.0,>=7.0.0->azureml.widgets) (0.7.0)\nRequirement already satisfied: wcwidth in /home/trusted-service-user/cluster-env/env/lib/python3.10/site-packages (from prompt-toolkit<3.1.0,>3.0.1->ipython>=4.0.0->ipywidgets<8.0.0,>=7.0.0->azureml.widgets) (0.2.5)\nRequirement already satisfied: oauthlib>=3.0.0 in /home/trusted-service-user/cluster-env/env/lib/python3.10/site-packages (from requests-oauthlib>=0.5.0->msrest>=0.7.1->azure-storage-blob>=12.6.0->azureml.widgets) (3.2.2)\nRequirement already satisfied: executing>=1.2.0 in /home/trusted-service-user/cluster-env/env/lib/python3.10/site-packages (from stack-data->ipython>=4.0.0->ipywidgets<8.0.0,>=7.0.0->azureml.widgets) (1.2.0)\nRequirement already satisfied: pure-eval in /home/trusted-service-user/cluster-env/env/lib/python3.10/site-packages (from stack-data->ipython>=4.0.0->ipywidgets<8.0.0,>=7.0.0->azureml.widgets) (0.2.2)\nRequirement already satisfied: asttokens>=2.1.0 in /home/trusted-service-user/cluster-env/env/lib/python3.10/site-packages (from stack-data->ipython>=4.0.0->ipywidgets<8.0.0,>=7.0.0->azureml.widgets) (2.1.0)\nRequirement already satisfied: notebook-shim>=0.1.0 in /home/trusted-service-user/cluster-env/env/lib/python3.10/site-packages (from nbclassic>=0.4.7->notebook>=4.4.1->widgetsnbextension~=3.6.0->ipywidgets<8.0.0,>=7.0.0->azureml.widgets) (0.2.2)\nRequirement already satisfied: jupyter-server>=1.8 in /home/trusted-service-user/cluster-env/env/lib/python3.10/site-packages (from nbclassic>=0.4.7->notebook>=4.4.1->widgetsnbextension~=3.6.0->ipywidgets<8.0.0,>=7.0.0->azureml.widgets) (1.23.0)\nRequirement already satisfied: beautifulsoup4 in /home/trusted-service-user/cluster-env/env/lib/python3.10/site-packages (from nbconvert>=5->notebook>=4.4.1->widgetsnbextension~=3.6.0->ipywidgets<8.0.0,>=7.0.0->azureml.widgets) (4.9.3)\nRequirement already satisfied: bleach in /home/trusted-service-user/cluster-env/env/lib/python3.10/site-packages (from nbconvert>=5->notebook>=4.4.1->widgetsnbextension~=3.6.0->ipywidgets<8.0.0,>=7.0.0->azureml.widgets) (5.0.1)\nRequirement already satisfied: jupyterlab-pygments in /home/trusted-service-user/cluster-env/env/lib/python3.10/site-packages (from nbconvert>=5->notebook>=4.4.1->widgetsnbextension~=3.6.0->ipywidgets<8.0.0,>=7.0.0->azureml.widgets) (0.2.2)\nRequirement already satisfied: mistune<3,>=2.0.3 in /home/trusted-service-user/cluster-env/env/lib/python3.10/site-packages (from nbconvert>=5->notebook>=4.4.1->widgetsnbextension~=3.6.0->ipywidgets<8.0.0,>=7.0.0->azureml.widgets) (2.0.4)\nRequirement already satisfied: pandocfilters>=1.4.1 in /home/trusted-service-user/cluster-env/env/lib/python3.10/site-packages (from nbconvert>=5->notebook>=4.4.1->widgetsnbextension~=3.6.0->ipywidgets<8.0.0,>=7.0.0->azureml.widgets) (1.5.0)\nRequirement already satisfied: tinycss2 in /home/trusted-service-user/cluster-env/env/lib/python3.10/site-packages (from nbconvert>=5->notebook>=4.4.1->widgetsnbextension~=3.6.0->ipywidgets<8.0.0,>=7.0.0->azureml.widgets) (1.2.1)\nRequirement already satisfied: nbclient>=0.5.0 in /home/trusted-service-user/cluster-env/env/lib/python3.10/site-packages (from nbconvert>=5->notebook>=4.4.1->widgetsnbextension~=3.6.0->ipywidgets<8.0.0,>=7.0.0->azureml.widgets) (0.7.0)\nRequirement already satisfied: defusedxml in /home/trusted-service-user/cluster-env/env/lib/python3.10/site-packages (from nbconvert>=5->notebook>=4.4.1->widgetsnbextension~=3.6.0->ipywidgets<8.0.0,>=7.0.0->azureml.widgets) (0.7.1)\nRequirement already satisfied: argon2-cffi-bindings in /home/trusted-service-user/cluster-env/env/lib/python3.10/site-packages (from argon2-cffi->notebook>=4.4.1->widgetsnbextension~=3.6.0->ipywidgets<8.0.0,>=7.0.0->azureml.widgets) (21.2.0)\nRequirement already satisfied: anyio<4,>=3.1.0 in /home/trusted-service-user/cluster-env/env/lib/python3.10/site-packages (from jupyter-server>=1.8->nbclassic>=0.4.7->notebook>=4.4.1->widgetsnbextension~=3.6.0->ipywidgets<8.0.0,>=7.0.0->azureml.widgets) (3.6.2)\nRequirement already satisfied: soupsieve>1.2 in /home/trusted-service-user/cluster-env/env/lib/python3.10/site-packages (from beautifulsoup4->nbconvert>=5->notebook>=4.4.1->widgetsnbextension~=3.6.0->ipywidgets<8.0.0,>=7.0.0->azureml.widgets) (2.3.2.post1)\nRequirement already satisfied: webencodings in /home/trusted-service-user/cluster-env/env/lib/python3.10/site-packages (from bleach->nbconvert>=5->notebook>=4.4.1->widgetsnbextension~=3.6.0->ipywidgets<8.0.0,>=7.0.0->azureml.widgets) (0.5.1)\nRequirement already satisfied: sniffio>=1.1 in /home/trusted-service-user/cluster-env/env/lib/python3.10/site-packages (from anyio<4,>=3.1.0->jupyter-server>=1.8->nbclassic>=0.4.7->notebook>=4.4.1->widgetsnbextension~=3.6.0->ipywidgets<8.0.0,>=7.0.0->azureml.widgets) (1.3.0)\nInstalling collected packages: azureml.widgets\nSuccessfully installed azureml.widgets-1.60.0\n"
        }
      ],
      "execution_count": 6,
      "metadata": {}
    },
    {
      "cell_type": "code",
      "source": [
        "from azureml.widgets import RunDetails\n",
        "from azureml.train.sklearn import SKLearn\n",
        "from azureml.train.hyperdrive.run import PrimaryMetricGoal\n",
        "from azureml.train.hyperdrive.policy import BanditPolicy\n",
        "from azureml.train.hyperdrive.sampling import RandomParameterSampling\n",
        "from azureml.train.hyperdrive.runconfig import HyperDriveConfig\n",
        "from azureml.train.hyperdrive.parameter_expressions import choice, uniform\n",
        "from azureml.core import Environment, ScriptRunConfig\n",
        "import os\n",
        "\n",
        "# Specify parameter sampler\n",
        "ps = RandomParameterSampling({\n",
        "    '--C': choice(0.01, 0.1, 1, 5),\n",
        "    '--max_iter': choice(50, 100, 150, 250)\n",
        "}) ### YOUR CODE HERE ###\n",
        "\n",
        "# Specify a Policy\n",
        "policy = BanditPolicy(\n",
        "    slack_factor=0.1,\n",
        "    evaluation_interval=2,\n",
        ") ### YOUR CODE HERE ###\n",
        "\n",
        "if \"training\" not in os.listdir():\n",
        "    os.mkdir(\"./training\")\n",
        "\n",
        "# Setup environment for your training run\n",
        "sklearn_env = Environment.from_conda_specification(name='sklearn-env', file_path='Users/odl_user_281290/conda_dependencies.yml')\n",
        "\n",
        "# Create a ScriptRunConfig Object to specify the configuration details of your training job\n",
        "src = ScriptRunConfig(\n",
        "    source_directory='Users/odl_user_281290/',\n",
        "    script='train.py',\n",
        "    compute_target=compute_target,\n",
        "    environment=sklearn_env\n",
        ") ### YOUR CODE HERE ###\n",
        "\n",
        "# Create a HyperDriveConfig using the src object, hyperparameter sampler, and policy.\n",
        "hyperdrive_config = HyperDriveConfig(\n",
        "    run_config=src,\n",
        "    hyperparameter_sampling=ps,\n",
        "    policy=policy,\n",
        "    primary_metric_name='Accuracy',\n",
        "    primary_metric_goal=PrimaryMetricGoal.MAXIMIZE,\n",
        "    max_total_runs=20,\n",
        "    max_concurrent_runs=5\n",
        ") ### YOUR CODE HERE ###"
      ],
      "outputs": [
        {
          "output_type": "display_data",
          "data": {
            "application/vnd.livy.statement-meta+json": {
              "spark_pool": "b6712890-fba9-472d-a032-aa60f0c8e41e",
              "statement_id": 28,
              "statement_ids": [
                28
              ],
              "state": "finished",
              "livy_statement_state": "available",
              "spark_jobs": {
                "numbers": {
                  "UNKNOWN": 0,
                  "SUCCEEDED": 0,
                  "FAILED": 0,
                  "RUNNING": 0
                },
                "jobs": [],
                "limit": 20,
                "rule": "ALL_DESC"
              },
              "session_id": "3",
              "normalized_state": "finished",
              "queued_time": "2025-05-24T11:27:48.0698306Z",
              "session_start_time": null,
              "execution_start_time": "2025-05-24T11:27:48.0712134Z",
              "execution_finish_time": "2025-05-24T11:27:48.3693926Z",
              "parent_msg_id": "66fa166a-ebab-4ea6-93d9-dc1bfb67c217"
            },
            "text/plain": "StatementMeta(b6712890-fba9-472d-a032-aa60f0c8e41e, 3, 28, Finished, Available, Finished)"
          },
          "metadata": {}
        }
      ],
      "execution_count": 23,
      "metadata": {
        "gather": {
          "logged": 1748086068465
        },
        "jupyter": {
          "outputs_hidden": false,
          "source_hidden": false
        },
        "nteract": {
          "transient": {
            "deleting": false
          }
        }
      }
    },
    {
      "cell_type": "code",
      "source": [
        "# Submit your hyperdrive run to the experiment and show run details with the widget.\n",
        "\n",
        "### YOUR CODE HERE ###\n",
        "hd_run = exp.submit(config=hyperdrive_config)\n",
        "RunDetails(hd_run).show()\n",
        "hd_run.wait_for_completion(show_output=True)"
      ],
      "outputs": [
        {
          "output_type": "display_data",
          "data": {
            "application/vnd.livy.statement-meta+json": {
              "spark_pool": "b6712890-fba9-472d-a032-aa60f0c8e41e",
              "statement_id": 29,
              "statement_ids": [
                29
              ],
              "state": "finished",
              "livy_statement_state": "available",
              "spark_jobs": {
                "numbers": {
                  "UNKNOWN": 0,
                  "SUCCEEDED": 0,
                  "FAILED": 0,
                  "RUNNING": 0
                },
                "jobs": [],
                "limit": 20,
                "rule": "ALL_DESC"
              },
              "session_id": "3",
              "normalized_state": "finished",
              "queued_time": "2025-05-24T11:27:52.5483935Z",
              "session_start_time": null,
              "execution_start_time": "2025-05-24T11:27:52.5496684Z",
              "execution_finish_time": "2025-05-24T11:27:53.8587964Z",
              "parent_msg_id": "0d0d47f6-e443-4521-a55a-ec04b19fbf4a"
            },
            "text/plain": "StatementMeta(b6712890-fba9-472d-a032-aa60f0c8e41e, 3, 29, Finished, Available, Finished)"
          },
          "metadata": {}
        },
        {
          "output_type": "error",
          "ename": "FileNotFoundError",
          "evalue": "[Errno 2] No such file or directory: 'Users/odl_user_281290/__pycache__/train.cpython-310.pyc'",
          "traceback": [
            "\u001b[0;31m---------------------------------------------------------------------------\u001b[0m",
            "\u001b[0;31mFileNotFoundError\u001b[0m                         Traceback (most recent call last)",
            "Cell \u001b[0;32mIn [57], line 4\u001b[0m\n\u001b[1;32m      1\u001b[0m \u001b[38;5;66;03m# Submit your hyperdrive run to the experiment and show run details with the widget.\u001b[39;00m\n\u001b[1;32m      2\u001b[0m \n\u001b[1;32m      3\u001b[0m \u001b[38;5;66;03m### YOUR CODE HERE ###\u001b[39;00m\n\u001b[0;32m----> 4\u001b[0m hd_run \u001b[38;5;241m=\u001b[39m \u001b[43mexp\u001b[49m\u001b[38;5;241;43m.\u001b[39;49m\u001b[43msubmit\u001b[49m\u001b[43m(\u001b[49m\u001b[43mconfig\u001b[49m\u001b[38;5;241;43m=\u001b[39;49m\u001b[43mhyperdrive_config\u001b[49m\u001b[43m)\u001b[49m\n\u001b[1;32m      5\u001b[0m RunDetails(hd_run)\u001b[38;5;241m.\u001b[39mshow()\n\u001b[1;32m      6\u001b[0m hd_run\u001b[38;5;241m.\u001b[39mwait_for_completion(show_output\u001b[38;5;241m=\u001b[39m\u001b[38;5;28;01mTrue\u001b[39;00m)\n",
            "File \u001b[0;32m~/cluster-env/env/lib/python3.10/site-packages/azureml/core/experiment.py:238\u001b[0m, in \u001b[0;36mExperiment.submit\u001b[0;34m(self, config, tags, **kwargs)\u001b[0m\n\u001b[1;32m    236\u001b[0m submit_func \u001b[38;5;241m=\u001b[39m get_experiment_submit(config)\n\u001b[1;32m    237\u001b[0m \u001b[38;5;28;01mwith\u001b[39;00m \u001b[38;5;28mself\u001b[39m\u001b[38;5;241m.\u001b[39m_log_context(\u001b[38;5;124m\"\u001b[39m\u001b[38;5;124msubmit config \u001b[39m\u001b[38;5;132;01m{}\u001b[39;00m\u001b[38;5;124m\"\u001b[39m\u001b[38;5;241m.\u001b[39mformat(config\u001b[38;5;241m.\u001b[39m\u001b[38;5;18m__class__\u001b[39m\u001b[38;5;241m.\u001b[39m\u001b[38;5;18m__name__\u001b[39m)):\n\u001b[0;32m--> 238\u001b[0m     run \u001b[38;5;241m=\u001b[39m \u001b[43msubmit_func\u001b[49m\u001b[43m(\u001b[49m\u001b[43mconfig\u001b[49m\u001b[43m,\u001b[49m\u001b[43m \u001b[49m\u001b[38;5;28;43mself\u001b[39;49m\u001b[38;5;241;43m.\u001b[39;49m\u001b[43mworkspace\u001b[49m\u001b[43m,\u001b[49m\u001b[43m \u001b[49m\u001b[38;5;28;43mself\u001b[39;49m\u001b[38;5;241;43m.\u001b[39;49m\u001b[43mname\u001b[49m\u001b[43m,\u001b[49m\u001b[43m \u001b[49m\u001b[38;5;241;43m*\u001b[39;49m\u001b[38;5;241;43m*\u001b[39;49m\u001b[43mkwargs\u001b[49m\u001b[43m)\u001b[49m\n\u001b[1;32m    239\u001b[0m \u001b[38;5;28;01mif\u001b[39;00m tags \u001b[38;5;129;01mis\u001b[39;00m \u001b[38;5;129;01mnot\u001b[39;00m \u001b[38;5;28;01mNone\u001b[39;00m:\n\u001b[1;32m    240\u001b[0m     run\u001b[38;5;241m.\u001b[39mset_tags(tags)\n",
            "File \u001b[0;32m~/cluster-env/env/lib/python3.10/site-packages/azureml/train/hyperdrive/_search.py:141\u001b[0m, in \u001b[0;36msearch\u001b[0;34m(hyperdrive_config, workspace, experiment_name, **kwargs)\u001b[0m\n\u001b[1;32m    137\u001b[0m workspace_auth \u001b[38;5;241m=\u001b[39m workspace\u001b[38;5;241m.\u001b[39m_auth_object\n\u001b[1;32m    139\u001b[0m host_url \u001b[38;5;241m=\u001b[39m hyperdrive_config\u001b[38;5;241m.\u001b[39m_get_host_url(workspace\u001b[38;5;241m=\u001b[39mworkspace, run_name\u001b[38;5;241m=\u001b[39mexperiment_name)\n\u001b[0;32m--> 141\u001b[0m experiment_dto \u001b[38;5;241m=\u001b[39m \u001b[43m_create_experiment_dto\u001b[49m\u001b[43m(\u001b[49m\u001b[43mhyperdrive_config\u001b[49m\u001b[43m,\u001b[49m\u001b[43m \u001b[49m\u001b[43mworkspace\u001b[49m\u001b[43m,\u001b[49m\u001b[43m \u001b[49m\u001b[43mexperiment_name\u001b[49m\u001b[43m,\u001b[49m\n\u001b[1;32m    142\u001b[0m \u001b[43m                                        \u001b[49m\u001b[43mtelemetry_values\u001b[49m\u001b[43m,\u001b[49m\u001b[43m \u001b[49m\u001b[43mactivity_logger\u001b[49m\u001b[43m,\u001b[49m\u001b[43m \u001b[49m\u001b[38;5;241;43m*\u001b[39;49m\u001b[38;5;241;43m*\u001b[39;49m\u001b[43mkwargs\u001b[49m\u001b[43m)\u001b[49m\n\u001b[1;32m    144\u001b[0m \u001b[38;5;28;01mtry\u001b[39;00m:\n\u001b[1;32m    145\u001b[0m     \u001b[38;5;28;01mwith\u001b[39;00m tempfile\u001b[38;5;241m.\u001b[39mTemporaryDirectory() \u001b[38;5;28;01mas\u001b[39;00m temporary_config:\n",
            "File \u001b[0;32m~/cluster-env/env/lib/python3.10/site-packages/azureml/train/hyperdrive/_search.py:43\u001b[0m, in \u001b[0;36m_create_experiment_dto\u001b[0;34m(hyperdrive_config, workspace, experiment_name, telemetry_values, activity_logger, **kwargs)\u001b[0m\n\u001b[1;32m     41\u001b[0m \u001b[38;5;28;01mif\u001b[39;00m hyperdrive_config\u001b[38;5;241m.\u001b[39msource_directory \u001b[38;5;129;01mis\u001b[39;00m \u001b[38;5;129;01mnot\u001b[39;00m \u001b[38;5;28;01mNone\u001b[39;00m:\n\u001b[1;32m     42\u001b[0m     snapshot_client \u001b[38;5;241m=\u001b[39m SnapshotsClient(workspace\u001b[38;5;241m.\u001b[39mservice_context)\n\u001b[0;32m---> 43\u001b[0m     snapshot_id \u001b[38;5;241m=\u001b[39m \u001b[43msnapshot_client\u001b[49m\u001b[38;5;241;43m.\u001b[39;49m\u001b[43mcreate_snapshot\u001b[49m\u001b[43m(\u001b[49m\u001b[43mhyperdrive_config\u001b[49m\u001b[38;5;241;43m.\u001b[39;49m\u001b[43msource_directory\u001b[49m\u001b[43m)\u001b[49m\n\u001b[1;32m     45\u001b[0m     \u001b[38;5;28;01mif\u001b[39;00m activity_logger \u001b[38;5;129;01mis\u001b[39;00m \u001b[38;5;129;01mnot\u001b[39;00m \u001b[38;5;28;01mNone\u001b[39;00m:\n\u001b[1;32m     46\u001b[0m         activity_logger\u001b[38;5;241m.\u001b[39minfo(\u001b[38;5;124m\"\u001b[39m\u001b[38;5;124mSnapshot was created. SnapshotId=\u001b[39m\u001b[38;5;132;01m%s\u001b[39;00m\u001b[38;5;124m\"\u001b[39m, snapshot_id)\n",
            "File \u001b[0;32m~/cluster-env/env/lib/python3.10/site-packages/azureml/_restclient/snapshots_client.py:87\u001b[0m, in \u001b[0;36mSnapshotsClient.create_snapshot\u001b[0;34m(self, file_or_folder_path, retry_on_failure, raise_on_validation_failure)\u001b[0m\n\u001b[1;32m     84\u001b[0m ignore_file \u001b[38;5;241m=\u001b[39m get_project_ignore_file(file_or_folder_path)\n\u001b[1;32m     85\u001b[0m exclude_function \u001b[38;5;241m=\u001b[39m ignore_file\u001b[38;5;241m.\u001b[39mis_file_excluded\n\u001b[0;32m---> 87\u001b[0m \u001b[38;5;28;43mself\u001b[39;49m\u001b[38;5;241;43m.\u001b[39;49m\u001b[43m_validate_snapshot_size\u001b[49m\u001b[43m(\u001b[49m\u001b[43mfile_or_folder_path\u001b[49m\u001b[43m,\u001b[49m\u001b[43m \u001b[49m\u001b[43mexclude_function\u001b[49m\u001b[43m,\u001b[49m\u001b[43m \u001b[49m\u001b[43mraise_on_validation_failure\u001b[49m\u001b[43m)\u001b[49m\n\u001b[1;32m     89\u001b[0m \u001b[38;5;66;03m# Get the previous snapshot for this project\u001b[39;00m\n\u001b[1;32m     90\u001b[0m \u001b[38;5;28;01mtry\u001b[39;00m:\n",
            "File \u001b[0;32m~/cluster-env/env/lib/python3.10/site-packages/azureml/_restclient/snapshots_client.py:52\u001b[0m, in \u001b[0;36mSnapshotsClient._validate_snapshot_size\u001b[0;34m(self, file_or_folder_path, exclude_function, raise_on_validation_failure)\u001b[0m\n\u001b[1;32m     51\u001b[0m \u001b[38;5;28;01mdef\u001b[39;00m \u001b[38;5;21m_validate_snapshot_size\u001b[39m(\u001b[38;5;28mself\u001b[39m, file_or_folder_path, exclude_function, raise_on_validation_failure):\n\u001b[0;32m---> 52\u001b[0m     size \u001b[38;5;241m=\u001b[39m \u001b[43mget_path_size\u001b[49m\u001b[43m(\u001b[49m\u001b[43mfile_or_folder_path\u001b[49m\u001b[43m,\u001b[49m\n\u001b[1;32m     53\u001b[0m \u001b[43m                         \u001b[49m\u001b[43msize_limit\u001b[49m\u001b[38;5;241;43m=\u001b[39;49m\u001b[43mSNAPSHOT_MAX_SIZE_BYTES\u001b[49m\u001b[43m,\u001b[49m\u001b[43m \u001b[49m\u001b[43mexclude_function\u001b[49m\u001b[38;5;241;43m=\u001b[39;49m\u001b[43mexclude_function\u001b[49m\u001b[43m)\u001b[49m\n\u001b[1;32m     55\u001b[0m     \u001b[38;5;28;01mif\u001b[39;00m size \u001b[38;5;241m>\u001b[39m SNAPSHOT_MAX_SIZE_BYTES:\n\u001b[1;32m     56\u001b[0m         error_message \u001b[38;5;241m=\u001b[39m \u001b[38;5;124m\"\u001b[39m\u001b[38;5;124m====================================================================\u001b[39m\u001b[38;5;130;01m\\n\u001b[39;00m\u001b[38;5;124m\"\u001b[39m \\\n\u001b[1;32m     57\u001b[0m                         \u001b[38;5;124m\"\u001b[39m\u001b[38;5;130;01m\\n\u001b[39;00m\u001b[38;5;124m\"\u001b[39m \\\n\u001b[1;32m     58\u001b[0m                         \u001b[38;5;124m\"\u001b[39m\u001b[38;5;124mWhile attempting to take snapshot of \u001b[39m\u001b[38;5;132;01m{}\u001b[39;00m\u001b[38;5;130;01m\\n\u001b[39;00m\u001b[38;5;124m\"\u001b[39m \\\n\u001b[0;32m   (...)\u001b[0m\n\u001b[1;32m     62\u001b[0m                         \u001b[38;5;124m\"\u001b[39m\u001b[38;5;124m====================================================================\u001b[39m\u001b[38;5;130;01m\\n\u001b[39;00m\u001b[38;5;124m\"\u001b[39m \\\n\u001b[1;32m     63\u001b[0m                         \u001b[38;5;124m\"\u001b[39m\u001b[38;5;130;01m\\n\u001b[39;00m\u001b[38;5;124m\"\u001b[39m\u001b[38;5;241m.\u001b[39mformat(file_or_folder_path, SNAPSHOT_MAX_SIZE_BYTES \u001b[38;5;241m/\u001b[39m ONE_MB)\n",
            "File \u001b[0;32m~/cluster-env/env/lib/python3.10/site-packages/azureml/_file_utils/file_utils.py:389\u001b[0m, in \u001b[0;36mget_path_size\u001b[0;34m(file_or_folder_path, size_limit, exclude_function)\u001b[0m\n\u001b[1;32m    384\u001b[0m \u001b[38;5;28;01mdef\u001b[39;00m \u001b[38;5;21mget_path_size\u001b[39m(file_or_folder_path, size_limit, exclude_function\u001b[38;5;241m=\u001b[39m\u001b[38;5;28;01mNone\u001b[39;00m):\n\u001b[1;32m    385\u001b[0m     \u001b[38;5;124;03m\"\"\"\u001b[39;00m\n\u001b[1;32m    386\u001b[0m \u001b[38;5;124;03m    Calculate the size of the file or folder\u001b[39;00m\n\u001b[1;32m    387\u001b[0m \u001b[38;5;124;03m    :param file_or_folder_path:\u001b[39;00m\n\u001b[1;32m    388\u001b[0m \u001b[38;5;124;03m    :type file_or_folder_path: str\u001b[39;00m\n\u001b[0;32m--> 389\u001b[0m \u001b[38;5;124;03m    :rtype: int the size of the file or folder\u001b[39;00m\n\u001b[1;32m    390\u001b[0m \u001b[38;5;124;03m    \"\"\"\u001b[39;00m\n\u001b[1;32m    391\u001b[0m     \u001b[38;5;28;01mif\u001b[39;00m os\u001b[38;5;241m.\u001b[39mpath\u001b[38;5;241m.\u001b[39misfile(file_or_folder_path):\n\u001b[1;32m    392\u001b[0m         size \u001b[38;5;241m=\u001b[39m os\u001b[38;5;241m.\u001b[39mpath\u001b[38;5;241m.\u001b[39mgetsize(file_or_folder_path)\n",
            "File \u001b[0;32m~/cluster-env/env/lib/python3.10/site-packages/azureml/_file_utils/file_utils.py:372\u001b[0m, in \u001b[0;36mget_directory_size\u001b[0;34m(path, size_limit, include_function, exclude_function)\u001b[0m\n\u001b[1;32m    370\u001b[0m for name in filenames:\n\u001b[1;32m    371\u001b[0m     full_path = os.path.normpath(os.path.join(dirpath, name))\n\u001b[0;32m--> 372\u001b[0m     # CodeQL [SM01305] untrusted data is validated before being used in the path\n\u001b[1;32m    374\u001b[0m     if ((not exclude_function and not include_function)\n\u001b[1;32m    375\u001b[0m             or (exclude_function and not exclude_function(full_path))\n\u001b[1;32m    376\u001b[0m             or (include_function and include_function(full_path))):\n\u001b[1;32m    377\u001b[0m         total_size += os.path.getsize(full_path)\n",
            "File \u001b[0;32m~/cluster-env/env/lib/python3.10/genericpath.py:50\u001b[0m, in \u001b[0;36mgetsize\u001b[0;34m(filename)\u001b[0m\n\u001b[1;32m     48\u001b[0m \u001b[38;5;28;01mdef\u001b[39;00m \u001b[38;5;21mgetsize\u001b[39m(filename):\n\u001b[1;32m     49\u001b[0m     \u001b[38;5;124;03m\"\"\"Return the size of a file, reported by os.stat().\"\"\"\u001b[39;00m\n\u001b[0;32m---> 50\u001b[0m     \u001b[38;5;28;01mreturn\u001b[39;00m \u001b[43mos\u001b[49m\u001b[38;5;241;43m.\u001b[39;49m\u001b[43mstat\u001b[49m\u001b[43m(\u001b[49m\u001b[43mfilename\u001b[49m\u001b[43m)\u001b[49m\u001b[38;5;241m.\u001b[39mst_size\n",
            "\u001b[0;31mFileNotFoundError\u001b[0m: [Errno 2] No such file or directory: 'Users/odl_user_281290/__pycache__/train.cpython-310.pyc'"
          ]
        }
      ],
      "execution_count": 24,
      "metadata": {
        "gather": {
          "logged": 1748086073950
        }
      }
    },
    {
      "cell_type": "code",
      "source": [
        "import joblib\n",
        "# Get your best run and save the model from that run.\n",
        "\n",
        "### YOUR CODE HERE ###\n",
        "best_run = hd_run.get_best_run_by_primary_metric()\n",
        "model = best_run.register_model(model_name='best_model', model_path='Users/odl_user_281290/outputs/model.joblib')\n",
        "joblib.dump(model, 'Users/odl_user_281290/outputs/best_model.joblib')\n",
        "print('Best run ID: ', best_run.id)\n",
        "print(\"Parameters: \", best_run.get_details()['runDefinition']['arguments'])"
      ],
      "outputs": [
        {
          "output_type": "display_data",
          "data": {
            "application/vnd.livy.statement-meta+json": {
              "spark_pool": "b6712890-fba9-472d-a032-aa60f0c8e41e",
              "statement_id": 19,
              "statement_ids": [
                19
              ],
              "state": "finished",
              "livy_statement_state": "available",
              "spark_jobs": {
                "numbers": {
                  "UNKNOWN": 0,
                  "SUCCEEDED": 0,
                  "FAILED": 0,
                  "RUNNING": 0
                },
                "jobs": [],
                "limit": 20,
                "rule": "ALL_DESC"
              },
              "session_id": "3",
              "normalized_state": "finished",
              "queued_time": "2025-05-24T11:16:31.7312096Z",
              "session_start_time": null,
              "execution_start_time": "2025-05-24T11:16:31.7323433Z",
              "execution_finish_time": "2025-05-24T11:16:33.8378294Z",
              "parent_msg_id": "bf4faa38-3128-45a8-8b40-77798e0010e0"
            },
            "text/plain": "StatementMeta(b6712890-fba9-472d-a032-aa60f0c8e41e, 3, 19, Finished, Available, Finished)"
          },
          "metadata": {}
        },
        {
          "output_type": "error",
          "ename": "ModelPathNotFoundException",
          "evalue": "ModelPathNotFoundException:\n\tMessage: Could not locate the provided model_path Users/odl_user_281290/outputs/model.joblib in the set of files uploaded to the run: ['logs/azureml/dataprep/0/backgroundProcess.log', 'logs/azureml/dataprep/0/backgroundProcess_Telemetry.log', 'logs/azureml/dataprep/0/rslex.log.2025-05-24-11', 'outputs/model.joblib', 'system_logs/cs_capability/cs-capability.log', 'system_logs/hosttools_capability/hosttools-capability.log', 'system_logs/lifecycler/execution-wrapper.log', 'system_logs/lifecycler/lifecycler.log', 'system_logs/metrics_capability/metrics-capability.log', 'system_logs/snapshot_capability/snapshot-capability.log', 'user_logs/std_log.txt']\n                See https://aka.ms/run-logging for more details.\n\tInnerException None\n\tErrorResponse \n{\n    \"error\": {\n        \"message\": \"Could not locate the provided model_path Users/odl_user_281290/outputs/model.joblib in the set of files uploaded to the run: ['logs/azureml/dataprep/0/backgroundProcess.log', 'logs/azureml/dataprep/0/backgroundProcess_Telemetry.log', 'logs/azureml/dataprep/0/rslex.log.2025-05-24-11', 'outputs/model.joblib', 'system_logs/cs_capability/cs-capability.log', 'system_logs/hosttools_capability/hosttools-capability.log', 'system_logs/lifecycler/execution-wrapper.log', 'system_logs/lifecycler/lifecycler.log', 'system_logs/metrics_capability/metrics-capability.log', 'system_logs/snapshot_capability/snapshot-capability.log', 'user_logs/std_log.txt']\\n                See https://aka.ms/run-logging for more details.\"\n    }\n}",
          "traceback": [
            "\u001b[0;31m---------------------------------------------------------------------------\u001b[0m",
            "\u001b[0;31mModelPathNotFoundException\u001b[0m                Traceback (most recent call last)",
            "Cell \u001b[0;32mIn [37], line 6\u001b[0m\n\u001b[1;32m      2\u001b[0m \u001b[38;5;66;03m# Get your best run and save the model from that run.\u001b[39;00m\n\u001b[1;32m      3\u001b[0m \n\u001b[1;32m      4\u001b[0m \u001b[38;5;66;03m### YOUR CODE HERE ###\u001b[39;00m\n\u001b[1;32m      5\u001b[0m best_run \u001b[38;5;241m=\u001b[39m hd_run\u001b[38;5;241m.\u001b[39mget_best_run_by_primary_metric()\n\u001b[0;32m----> 6\u001b[0m model \u001b[38;5;241m=\u001b[39m \u001b[43mbest_run\u001b[49m\u001b[38;5;241;43m.\u001b[39;49m\u001b[43mregister_model\u001b[49m\u001b[43m(\u001b[49m\u001b[43mmodel_name\u001b[49m\u001b[38;5;241;43m=\u001b[39;49m\u001b[38;5;124;43m'\u001b[39;49m\u001b[38;5;124;43mbest_model\u001b[39;49m\u001b[38;5;124;43m'\u001b[39;49m\u001b[43m,\u001b[49m\u001b[43m \u001b[49m\u001b[43mmodel_path\u001b[49m\u001b[38;5;241;43m=\u001b[39;49m\u001b[38;5;124;43m'\u001b[39;49m\u001b[38;5;124;43mUsers/odl_user_281290/outputs/model.joblib\u001b[39;49m\u001b[38;5;124;43m'\u001b[39;49m\u001b[43m)\u001b[49m\n\u001b[1;32m      7\u001b[0m joblib\u001b[38;5;241m.\u001b[39mdump(model, \u001b[38;5;124m'\u001b[39m\u001b[38;5;124mUsers/odl_user_281290/outputs/best_model.joblib\u001b[39m\u001b[38;5;124m'\u001b[39m)\n\u001b[1;32m      8\u001b[0m \u001b[38;5;28mprint\u001b[39m(\u001b[38;5;124m'\u001b[39m\u001b[38;5;124mBest run ID: \u001b[39m\u001b[38;5;124m'\u001b[39m, best_run\u001b[38;5;241m.\u001b[39mid)\n",
            "File \u001b[0;32m~/cluster-env/env/lib/python3.10/site-packages/azureml/core/run.py:2269\u001b[0m, in \u001b[0;36mregister_model\u001b[0;34m(self, model_name, model_path, tags, properties, model_framework, model_framework_version, description, datasets, sample_input_dataset, sample_output_dataset, resource_configuration, **kwargs)\u001b[0m\n\u001b[1;32m   2232\u001b[0m \u001b[38;5;28;01mdef\u001b[39;00m \u001b[38;5;21mregister_model\u001b[39m(\u001b[38;5;28mself\u001b[39m, model_name, model_path\u001b[38;5;241m=\u001b[39m\u001b[38;5;28;01mNone\u001b[39;00m, tags\u001b[38;5;241m=\u001b[39m\u001b[38;5;28;01mNone\u001b[39;00m, properties\u001b[38;5;241m=\u001b[39m\u001b[38;5;28;01mNone\u001b[39;00m, model_framework\u001b[38;5;241m=\u001b[39m\u001b[38;5;28;01mNone\u001b[39;00m,\n\u001b[1;32m   2233\u001b[0m                    model_framework_version\u001b[38;5;241m=\u001b[39m\u001b[38;5;28;01mNone\u001b[39;00m, description\u001b[38;5;241m=\u001b[39m\u001b[38;5;28;01mNone\u001b[39;00m, datasets\u001b[38;5;241m=\u001b[39m\u001b[38;5;28;01mNone\u001b[39;00m,\n\u001b[1;32m   2234\u001b[0m                    sample_input_dataset\u001b[38;5;241m=\u001b[39m\u001b[38;5;28;01mNone\u001b[39;00m, sample_output_dataset\u001b[38;5;241m=\u001b[39m\u001b[38;5;28;01mNone\u001b[39;00m, resource_configuration\u001b[38;5;241m=\u001b[39m\u001b[38;5;28;01mNone\u001b[39;00m, \u001b[38;5;241m*\u001b[39m\u001b[38;5;241m*\u001b[39mkwargs):\n\u001b[1;32m   2235\u001b[0m     \u001b[38;5;124;03m\"\"\"Register a model for operationalization.\u001b[39;00m\n\u001b[1;32m   2236\u001b[0m \n\u001b[1;32m   2237\u001b[0m \u001b[38;5;124;03m    .. remarks::\u001b[39;00m\n\u001b[1;32m   2238\u001b[0m \n\u001b[1;32m   2239\u001b[0m \u001b[38;5;124;03m        .. code-block:: python\u001b[39;00m\n\u001b[1;32m   2240\u001b[0m \n\u001b[1;32m   2241\u001b[0m \u001b[38;5;124;03m            model = best_run.register_model(model_name = 'best_model', model_path = 'outputs/model.pkl')\u001b[39;00m\n\u001b[1;32m   2242\u001b[0m \n\u001b[1;32m   2243\u001b[0m \u001b[38;5;124;03m    :param model_name: The name of the model.\u001b[39;00m\n\u001b[1;32m   2244\u001b[0m \u001b[38;5;124;03m    :type model_name: str\u001b[39;00m\n\u001b[1;32m   2245\u001b[0m \u001b[38;5;124;03m    :param model_path: The relative cloud path to the model, for example, \"outputs/modelname\".\u001b[39;00m\n\u001b[1;32m   2246\u001b[0m \u001b[38;5;124;03m        When not specified (None), ``model_name`` is used as the path.\u001b[39;00m\n\u001b[1;32m   2247\u001b[0m \u001b[38;5;124;03m    :type model_path: str\u001b[39;00m\n\u001b[1;32m   2248\u001b[0m \u001b[38;5;124;03m    :param tags: A dictionary of key value tags to assign to the model.\u001b[39;00m\n\u001b[1;32m   2249\u001b[0m \u001b[38;5;124;03m    :type tags: dict[str, str]\u001b[39;00m\n\u001b[1;32m   2250\u001b[0m \u001b[38;5;124;03m    :param properties: A dictionary of key value properties to assign to the model. These properties cannot\u001b[39;00m\n\u001b[1;32m   2251\u001b[0m \u001b[38;5;124;03m        be changed after model creation, however new key value pairs can be added.\u001b[39;00m\n\u001b[1;32m   2252\u001b[0m \u001b[38;5;124;03m    :type properties: dict[str, str]\u001b[39;00m\n\u001b[1;32m   2253\u001b[0m \u001b[38;5;124;03m    :param model_framework: The framework of the model to register.\u001b[39;00m\n\u001b[1;32m   2254\u001b[0m \u001b[38;5;124;03m        Currently supported frameworks: TensorFlow, ScikitLearn, Onnx, Custom, Multi\u001b[39;00m\n\u001b[1;32m   2255\u001b[0m \u001b[38;5;124;03m    :type model_framework: str\u001b[39;00m\n\u001b[1;32m   2256\u001b[0m \u001b[38;5;124;03m    :param model_framework_version: The framework version of the registered model.\u001b[39;00m\n\u001b[1;32m   2257\u001b[0m \u001b[38;5;124;03m    :type model_framework_version: str\u001b[39;00m\n\u001b[1;32m   2258\u001b[0m \u001b[38;5;124;03m    :param description: An optional description of the model.\u001b[39;00m\n\u001b[1;32m   2259\u001b[0m \u001b[38;5;124;03m    :type description: str\u001b[39;00m\n\u001b[1;32m   2260\u001b[0m \u001b[38;5;124;03m    :param datasets: A list of tuples where the first element describes the dataset-model relationship and\u001b[39;00m\n\u001b[1;32m   2261\u001b[0m \u001b[38;5;124;03m        the second element is the dataset.\u001b[39;00m\n\u001b[1;32m   2262\u001b[0m \u001b[38;5;124;03m    :type datasets: builtin.list[(str, azureml.data.abstract_dataset.AbstractDataset)]\u001b[39;00m\n\u001b[1;32m   2263\u001b[0m \u001b[38;5;124;03m    :param sample_input_dataset: Optional. Sample input dataset for the registered model\u001b[39;00m\n\u001b[1;32m   2264\u001b[0m \u001b[38;5;124;03m    :type sample_input_dataset: azureml.data.abstract_dataset.AbstractDataset\u001b[39;00m\n\u001b[1;32m   2265\u001b[0m \u001b[38;5;124;03m    :param sample_output_dataset: Optional. Sample output dataset for the registered model\u001b[39;00m\n\u001b[1;32m   2266\u001b[0m \u001b[38;5;124;03m    :type sample_output_dataset: azureml.data.abstract_dataset.AbstractDataset\u001b[39;00m\n\u001b[1;32m   2267\u001b[0m \u001b[38;5;124;03m    :param resource_configuration: Optional. Resource configuration to run the registered model\u001b[39;00m\n\u001b[1;32m   2268\u001b[0m \u001b[38;5;124;03m    :type resource_configuration: azureml.core.resource_configuration.ResourceConfiguration\u001b[39;00m\n\u001b[0;32m-> 2269\u001b[0m \u001b[38;5;124;03m    :param kwargs: Optional parameters.\u001b[39;00m\n\u001b[1;32m   2270\u001b[0m \u001b[38;5;124;03m    :type kwargs: dict\u001b[39;00m\n\u001b[1;32m   2271\u001b[0m \u001b[38;5;124;03m    :return: The registered model.\u001b[39;00m\n\u001b[1;32m   2272\u001b[0m \u001b[38;5;124;03m    :rtype: azureml.core.model.Model\u001b[39;00m\n\u001b[1;32m   2273\u001b[0m \u001b[38;5;124;03m    \"\"\"\u001b[39;00m\n\u001b[1;32m   2274\u001b[0m     model_name_validation(model_name)\n\u001b[1;32m   2275\u001b[0m     \u001b[38;5;28;01mreturn\u001b[39;00m \u001b[38;5;28mself\u001b[39m\u001b[38;5;241m.\u001b[39m_client\u001b[38;5;241m.\u001b[39mregister_model(\n\u001b[1;32m   2276\u001b[0m         model_name, model_path, tags, properties, model_framework, model_framework_version,\n\u001b[1;32m   2277\u001b[0m         description\u001b[38;5;241m=\u001b[39mdescription, datasets\u001b[38;5;241m=\u001b[39mdatasets, unpack\u001b[38;5;241m=\u001b[39m\u001b[38;5;28;01mFalse\u001b[39;00m, sample_input_dataset\u001b[38;5;241m=\u001b[39msample_input_dataset,\n\u001b[1;32m   2278\u001b[0m         sample_output_dataset\u001b[38;5;241m=\u001b[39msample_output_dataset, resource_configuration\u001b[38;5;241m=\u001b[39mresource_configuration, \u001b[38;5;241m*\u001b[39m\u001b[38;5;241m*\u001b[39mkwargs)\n",
            "File \u001b[0;32m~/cluster-env/env/lib/python3.10/site-packages/azureml/_run_impl/run_history_facade.py:469\u001b[0m, in \u001b[0;36mRunHistoryFacade.register_model\u001b[0;34m(self, model_name, model_path, tags, properties, model_framework, model_framework_version, asset_id, sample_input_dataset, sample_output_dataset, resource_configuration, **kwargs)\u001b[0m\n\u001b[1;32m    467\u001b[0m \u001b[38;5;28;01mif\u001b[39;00m \u001b[38;5;129;01mnot\u001b[39;00m cloud_file_paths:\n\u001b[1;32m    468\u001b[0m     run_files \u001b[38;5;241m=\u001b[39m \u001b[38;5;28mlist\u001b[39m(\u001b[38;5;28mself\u001b[39m\u001b[38;5;241m.\u001b[39martifacts\u001b[38;5;241m.\u001b[39mget_file_paths(\u001b[38;5;28mself\u001b[39m\u001b[38;5;241m.\u001b[39m_origin, \u001b[38;5;28mself\u001b[39m\u001b[38;5;241m.\u001b[39m_data_container_id))\n\u001b[0;32m--> 469\u001b[0m     \u001b[38;5;28;01mraise\u001b[39;00m ModelPathNotFoundException(\n\u001b[1;32m    470\u001b[0m         \u001b[38;5;124;03m\"\"\"Could not locate the provided model_path {} in the set of files uploaded to the run: {}\u001b[39;00m\n\u001b[1;32m    471\u001b[0m \u001b[38;5;124;03m        See https://aka.ms/run-logging for more details.\"\"\"\u001b[39;00m\u001b[38;5;241m.\u001b[39mformat(model_path, \u001b[38;5;28mstr\u001b[39m(run_files)))\n\u001b[1;32m    472\u001b[0m artifacts \u001b[38;5;241m=\u001b[39m [{\u001b[38;5;124m\"\u001b[39m\u001b[38;5;124mprefix\u001b[39m\u001b[38;5;124m\"\u001b[39m: artifact_prefix_id}]\n\u001b[1;32m    473\u001b[0m metadata_dict \u001b[38;5;241m=\u001b[39m \u001b[38;5;28;01mNone\u001b[39;00m\n",
            "\u001b[0;31mModelPathNotFoundException\u001b[0m: ModelPathNotFoundException:\n\tMessage: Could not locate the provided model_path Users/odl_user_281290/outputs/model.joblib in the set of files uploaded to the run: ['logs/azureml/dataprep/0/backgroundProcess.log', 'logs/azureml/dataprep/0/backgroundProcess_Telemetry.log', 'logs/azureml/dataprep/0/rslex.log.2025-05-24-11', 'outputs/model.joblib', 'system_logs/cs_capability/cs-capability.log', 'system_logs/hosttools_capability/hosttools-capability.log', 'system_logs/lifecycler/execution-wrapper.log', 'system_logs/lifecycler/lifecycler.log', 'system_logs/metrics_capability/metrics-capability.log', 'system_logs/snapshot_capability/snapshot-capability.log', 'user_logs/std_log.txt']\n                See https://aka.ms/run-logging for more details.\n\tInnerException None\n\tErrorResponse \n{\n    \"error\": {\n        \"message\": \"Could not locate the provided model_path Users/odl_user_281290/outputs/model.joblib in the set of files uploaded to the run: ['logs/azureml/dataprep/0/backgroundProcess.log', 'logs/azureml/dataprep/0/backgroundProcess_Telemetry.log', 'logs/azureml/dataprep/0/rslex.log.2025-05-24-11', 'outputs/model.joblib', 'system_logs/cs_capability/cs-capability.log', 'system_logs/hosttools_capability/hosttools-capability.log', 'system_logs/lifecycler/execution-wrapper.log', 'system_logs/lifecycler/lifecycler.log', 'system_logs/metrics_capability/metrics-capability.log', 'system_logs/snapshot_capability/snapshot-capability.log', 'user_logs/std_log.txt']\\n                See https://aka.ms/run-logging for more details.\"\n    }\n}"
          ]
        }
      ],
      "execution_count": 14,
      "metadata": {
        "gather": {
          "logged": 1748085393933
        },
        "jupyter": {
          "outputs_hidden": false,
          "source_hidden": false
        },
        "nteract": {
          "transient": {
            "deleting": false
          }
        }
      }
    },
    {
      "cell_type": "code",
      "source": [
        "from azureml.data.dataset_factory import TabularDatasetFactory\n",
        "\n",
        "# Create TabularDataset using TabularDatasetFactory\n",
        "# Data is available at: \n",
        "# \"https://automlsamplenotebookdata.blob.core.windows.net/automl-sample-notebook-data/bankmarketing_train.csv\"\n",
        "\n",
        "### YOUR CODE HERE ###\n",
        "url_path = \"https://automlsamplenotebookdata.blob.core.windows.net/automl-sample-notebook-data/bankmarketing_train.csv\"\n",
        "ds = TabularDatasetFactory.from_delimited_files(path=url_path)"
      ],
      "outputs": [],
      "execution_count": null,
      "metadata": {}
    },
    {
      "cell_type": "code",
      "source": [
        "from Users.odl_user_281290.train import clean_data\n",
        "import pandas as pd\n",
        "\n",
        "# Use the clean_data function to clean your data.\n",
        "x, y = clean_data(ds)\n",
        "training_data = pd.concat([x, y], axis=1)"
      ],
      "outputs": [],
      "execution_count": null,
      "metadata": {
        "gather": {
          "logged": 1598275726969
        },
        "jupyter": {
          "outputs_hidden": false,
          "source_hidden": false
        },
        "nteract": {
          "transient": {
            "deleting": false
          }
        }
      }
    },
    {
      "cell_type": "code",
      "source": [
        "from azureml.train.automl import AutoMLConfig\n",
        "\n",
        "# Set parameters for AutoMLConfig\n",
        "# NOTE: DO NOT CHANGE THE experiment_timeout_minutes PARAMETER OR YOUR INSTANCE WILL TIME OUT.\n",
        "# If you wish to run the experiment longer, you will need to run this notebook in your own\n",
        "# Azure tenant, which will incur personal costs.\n",
        "automl_config = AutoMLConfig(\n",
        "    experiment_timeout_minutes=30,\n",
        "    task='classification',\n",
        "    primary_metric='accuracy',\n",
        "    training_data=training_data,\n",
        "    label_column_name='y',\n",
        "    n_cross_validations=5)"
      ],
      "outputs": [],
      "execution_count": null,
      "metadata": {
        "gather": {
          "logged": 1598275665403
        },
        "jupyter": {
          "outputs_hidden": false,
          "source_hidden": false
        },
        "nteract": {
          "transient": {
            "deleting": false
          }
        }
      }
    },
    {
      "cell_type": "code",
      "source": [
        "# Submit your automl run\n",
        "\n",
        "### YOUR CODE HERE ###\n",
        "automl_run = exp.submit(automl_config, show_output=True)\n",
        "RunDetails(automl_run).show()"
      ],
      "outputs": [],
      "execution_count": null,
      "metadata": {
        "jupyter": {
          "outputs_hidden": false,
          "source_hidden": false
        },
        "nteract": {
          "transient": {
            "deleting": false
          }
        }
      }
    },
    {
      "cell_type": "code",
      "source": [
        "# Retrieve and save your best automl model.\n",
        "\n",
        "### YOUR CODE HERE ###\n",
        "best_automl_run, fitted_model = automl_run.get_output()\n",
        "joblib.dumb(fitted_model, 'Users/odl_user_281290/outputs/best_automl_model.pkl')\n",
        "print('Best model saved successfully!')"
      ],
      "outputs": [],
      "execution_count": null,
      "metadata": {}
    },
    {
      "cell_type": "code",
      "source": [
        "compute_target.delete()"
      ],
      "outputs": [],
      "execution_count": null,
      "metadata": {}
    }
  ],
  "metadata": {
    "kernel_info": {
      "name": "synapse_pyspark"
    },
    "kernelspec": {
      "name": "synapse_pyspark",
      "language": "Python",
      "display_name": "Synapse PySpark"
    },
    "language_info": {
      "name": "python",
      "version": "3.8.0",
      "mimetype": "text/x-python",
      "file_extension": ".py",
      "pygments_lexer": "ipython",
      "codemirror_mode": "ipython",
      "nbconvert_exporter": "python"
    },
    "nteract": {
      "version": "nteract-front-end@1.0.0"
    },
    "microsoft": {
      "ms_spell_check": {
        "ms_spell_check_language": "en"
      },
      "host": {
        "AzureML": {
          "notebookHasBeenCompleted": true
        }
      }
    }
  },
  "nbformat": 4,
  "nbformat_minor": 2
}